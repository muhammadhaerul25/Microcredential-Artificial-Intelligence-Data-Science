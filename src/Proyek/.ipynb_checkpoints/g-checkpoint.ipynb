{
 "cells": [
  {
   "cell_type": "markdown",
   "metadata": {
    "id": "6Pmeg9NHNoPe"
   },
   "source": [
    "#**Data Preparation**"
   ]
  },
  {
   "cell_type": "markdown",
   "metadata": {
    "id": "qo9HkwVxNsLo"
   },
   "source": [
    "##**Data Exploration**"
   ]
  },
  {
   "cell_type": "code",
   "execution_count": 1,
   "metadata": {
    "id": "3tdsOiDMOAHz"
   },
   "outputs": [],
   "source": [
    "import pandas as pd\n",
    "import numpy as np\n",
    "import scipy as sp\n",
    "import matplotlib.pyplot as plt\n",
    "import seaborn as sns"
   ]
  },
  {
   "cell_type": "code",
   "execution_count": 2,
   "metadata": {
    "colab": {
     "base_uri": "https://localhost:8080/",
     "height": 0
    },
    "id": "Mw1wGSlDOJDg",
    "outputId": "567c4d7e-8fe2-49b5-975c-a198553dc9b2"
   },
   "outputs": [
    {
     "data": {
      "text/html": [
       "<div>\n",
       "<style scoped>\n",
       "    .dataframe tbody tr th:only-of-type {\n",
       "        vertical-align: middle;\n",
       "    }\n",
       "\n",
       "    .dataframe tbody tr th {\n",
       "        vertical-align: top;\n",
       "    }\n",
       "\n",
       "    .dataframe thead th {\n",
       "        text-align: right;\n",
       "    }\n",
       "</style>\n",
       "<table border=\"1\" class=\"dataframe\">\n",
       "  <thead>\n",
       "    <tr style=\"text-align: right;\">\n",
       "      <th></th>\n",
       "      <th>tanggal</th>\n",
       "      <th>stasiun</th>\n",
       "      <th>pm10</th>\n",
       "      <th>pm25</th>\n",
       "      <th>so2</th>\n",
       "      <th>co</th>\n",
       "      <th>o3</th>\n",
       "      <th>no2</th>\n",
       "      <th>max</th>\n",
       "      <th>critical</th>\n",
       "      <th>categori</th>\n",
       "    </tr>\n",
       "  </thead>\n",
       "  <tbody>\n",
       "    <tr>\n",
       "      <th>0</th>\n",
       "      <td>2021-04-01</td>\n",
       "      <td>DKI1 (Bunderan HI)</td>\n",
       "      <td>26</td>\n",
       "      <td>42</td>\n",
       "      <td>22</td>\n",
       "      <td>11</td>\n",
       "      <td>13</td>\n",
       "      <td>19</td>\n",
       "      <td>42</td>\n",
       "      <td>PM25</td>\n",
       "      <td>BAIK</td>\n",
       "    </tr>\n",
       "    <tr>\n",
       "      <th>1</th>\n",
       "      <td>2021-04-02</td>\n",
       "      <td>DKI1 (Bunderan HI)</td>\n",
       "      <td>41</td>\n",
       "      <td>54</td>\n",
       "      <td>27</td>\n",
       "      <td>11</td>\n",
       "      <td>17</td>\n",
       "      <td>19</td>\n",
       "      <td>54</td>\n",
       "      <td>PM25</td>\n",
       "      <td>SEDANG</td>\n",
       "    </tr>\n",
       "    <tr>\n",
       "      <th>2</th>\n",
       "      <td>2021-04-03</td>\n",
       "      <td>DKI1 (Bunderan HI)</td>\n",
       "      <td>25</td>\n",
       "      <td>42</td>\n",
       "      <td>20</td>\n",
       "      <td>8</td>\n",
       "      <td>18</td>\n",
       "      <td>22</td>\n",
       "      <td>42</td>\n",
       "      <td>PM25</td>\n",
       "      <td>BAIK</td>\n",
       "    </tr>\n",
       "    <tr>\n",
       "      <th>3</th>\n",
       "      <td>2021-04-04</td>\n",
       "      <td>DKI1 (Bunderan HI)</td>\n",
       "      <td>57</td>\n",
       "      <td>78</td>\n",
       "      <td>21</td>\n",
       "      <td>23</td>\n",
       "      <td>14</td>\n",
       "      <td>33</td>\n",
       "      <td>78</td>\n",
       "      <td>PM25</td>\n",
       "      <td>SEDANG</td>\n",
       "    </tr>\n",
       "    <tr>\n",
       "      <th>4</th>\n",
       "      <td>2021-04-05</td>\n",
       "      <td>DKI1 (Bunderan HI)</td>\n",
       "      <td>52</td>\n",
       "      <td>69</td>\n",
       "      <td>22</td>\n",
       "      <td>15</td>\n",
       "      <td>18</td>\n",
       "      <td>27</td>\n",
       "      <td>69</td>\n",
       "      <td>PM25</td>\n",
       "      <td>SEDANG</td>\n",
       "    </tr>\n",
       "    <tr>\n",
       "      <th>...</th>\n",
       "      <td>...</td>\n",
       "      <td>...</td>\n",
       "      <td>...</td>\n",
       "      <td>...</td>\n",
       "      <td>...</td>\n",
       "      <td>...</td>\n",
       "      <td>...</td>\n",
       "      <td>...</td>\n",
       "      <td>...</td>\n",
       "      <td>...</td>\n",
       "      <td>...</td>\n",
       "    </tr>\n",
       "    <tr>\n",
       "      <th>750</th>\n",
       "      <td>2021-05-27</td>\n",
       "      <td>DKI5 (Kebon Jeruk) Jakarta Barat</td>\n",
       "      <td>34</td>\n",
       "      <td>61</td>\n",
       "      <td>32</td>\n",
       "      <td>5</td>\n",
       "      <td>20</td>\n",
       "      <td>11</td>\n",
       "      <td>61</td>\n",
       "      <td>PM25</td>\n",
       "      <td>SEDANG</td>\n",
       "    </tr>\n",
       "    <tr>\n",
       "      <th>751</th>\n",
       "      <td>2021-05-28</td>\n",
       "      <td>DKI5 (Kebon Jeruk) Jakarta Barat</td>\n",
       "      <td>49</td>\n",
       "      <td>77</td>\n",
       "      <td>37</td>\n",
       "      <td>8</td>\n",
       "      <td>20</td>\n",
       "      <td>19</td>\n",
       "      <td>77</td>\n",
       "      <td>PM25</td>\n",
       "      <td>SEDANG</td>\n",
       "    </tr>\n",
       "    <tr>\n",
       "      <th>752</th>\n",
       "      <td>2021-05-29</td>\n",
       "      <td>DKI5 (Kebon Jeruk) Jakarta Barat</td>\n",
       "      <td>54</td>\n",
       "      <td>88</td>\n",
       "      <td>37</td>\n",
       "      <td>11</td>\n",
       "      <td>19</td>\n",
       "      <td>29</td>\n",
       "      <td>88</td>\n",
       "      <td>PM25</td>\n",
       "      <td>SEDANG</td>\n",
       "    </tr>\n",
       "    <tr>\n",
       "      <th>753</th>\n",
       "      <td>2021-05-30</td>\n",
       "      <td>DKI5 (Kebon Jeruk) Jakarta Barat</td>\n",
       "      <td>46</td>\n",
       "      <td>66</td>\n",
       "      <td>24</td>\n",
       "      <td>15</td>\n",
       "      <td>18</td>\n",
       "      <td>29</td>\n",
       "      <td>66</td>\n",
       "      <td>PM25</td>\n",
       "      <td>SEDANG</td>\n",
       "    </tr>\n",
       "    <tr>\n",
       "      <th>754</th>\n",
       "      <td>2021-05-31</td>\n",
       "      <td>DKI5 (Kebon Jeruk) Jakarta Barat</td>\n",
       "      <td>52</td>\n",
       "      <td>82</td>\n",
       "      <td>21</td>\n",
       "      <td>11</td>\n",
       "      <td>27</td>\n",
       "      <td>18</td>\n",
       "      <td>82</td>\n",
       "      <td>PM25</td>\n",
       "      <td>SEDANG</td>\n",
       "    </tr>\n",
       "  </tbody>\n",
       "</table>\n",
       "<p>755 rows × 11 columns</p>\n",
       "</div>"
      ],
      "text/plain": [
       "        tanggal                           stasiun pm10 pm25 so2  co  o3 no2  \\\n",
       "0    2021-04-01                DKI1 (Bunderan HI)   26   42  22  11  13  19   \n",
       "1    2021-04-02                DKI1 (Bunderan HI)   41   54  27  11  17  19   \n",
       "2    2021-04-03                DKI1 (Bunderan HI)   25   42  20   8  18  22   \n",
       "3    2021-04-04                DKI1 (Bunderan HI)   57   78  21  23  14  33   \n",
       "4    2021-04-05                DKI1 (Bunderan HI)   52   69  22  15  18  27   \n",
       "..          ...                               ...  ...  ...  ..  ..  ..  ..   \n",
       "750  2021-05-27  DKI5 (Kebon Jeruk) Jakarta Barat   34   61  32   5  20  11   \n",
       "751  2021-05-28  DKI5 (Kebon Jeruk) Jakarta Barat   49   77  37   8  20  19   \n",
       "752  2021-05-29  DKI5 (Kebon Jeruk) Jakarta Barat   54   88  37  11  19  29   \n",
       "753  2021-05-30  DKI5 (Kebon Jeruk) Jakarta Barat   46   66  24  15  18  29   \n",
       "754  2021-05-31  DKI5 (Kebon Jeruk) Jakarta Barat   52   82  21  11  27  18   \n",
       "\n",
       "     max critical categori  \n",
       "0     42     PM25     BAIK  \n",
       "1     54     PM25   SEDANG  \n",
       "2     42     PM25     BAIK  \n",
       "3     78     PM25   SEDANG  \n",
       "4     69     PM25   SEDANG  \n",
       "..   ...      ...      ...  \n",
       "750   61     PM25   SEDANG  \n",
       "751   77     PM25   SEDANG  \n",
       "752   88     PM25   SEDANG  \n",
       "753   66     PM25   SEDANG  \n",
       "754   82     PM25   SEDANG  \n",
       "\n",
       "[755 rows x 11 columns]"
      ]
     },
     "execution_count": 2,
     "metadata": {},
     "output_type": "execute_result"
    }
   ],
   "source": [
    "df = pd.read_csv('ispu.csv')\n",
    "df"
   ]
  },
  {
   "cell_type": "code",
   "execution_count": 3,
   "metadata": {
    "colab": {
     "base_uri": "https://localhost:8080/",
     "height": 0
    },
    "id": "2dOp9dReOP-e",
    "outputId": "3acc4eea-13e9-43dc-aa9e-896f9cf7ae08"
   },
   "outputs": [
    {
     "data": {
      "text/html": [
       "<div>\n",
       "<style scoped>\n",
       "    .dataframe tbody tr th:only-of-type {\n",
       "        vertical-align: middle;\n",
       "    }\n",
       "\n",
       "    .dataframe tbody tr th {\n",
       "        vertical-align: top;\n",
       "    }\n",
       "\n",
       "    .dataframe thead th {\n",
       "        text-align: right;\n",
       "    }\n",
       "</style>\n",
       "<table border=\"1\" class=\"dataframe\">\n",
       "  <thead>\n",
       "    <tr style=\"text-align: right;\">\n",
       "      <th></th>\n",
       "      <th>tanggal</th>\n",
       "      <th>stasiun</th>\n",
       "      <th>pm10</th>\n",
       "      <th>pm25</th>\n",
       "      <th>so2</th>\n",
       "      <th>co</th>\n",
       "      <th>o3</th>\n",
       "      <th>no2</th>\n",
       "      <th>max</th>\n",
       "      <th>critical</th>\n",
       "      <th>categori</th>\n",
       "    </tr>\n",
       "  </thead>\n",
       "  <tbody>\n",
       "    <tr>\n",
       "      <th>0</th>\n",
       "      <td>2021-04-01</td>\n",
       "      <td>DKI1 (Bunderan HI)</td>\n",
       "      <td>26</td>\n",
       "      <td>42</td>\n",
       "      <td>22</td>\n",
       "      <td>11</td>\n",
       "      <td>13</td>\n",
       "      <td>19</td>\n",
       "      <td>42</td>\n",
       "      <td>PM25</td>\n",
       "      <td>BAIK</td>\n",
       "    </tr>\n",
       "    <tr>\n",
       "      <th>1</th>\n",
       "      <td>2021-04-02</td>\n",
       "      <td>DKI1 (Bunderan HI)</td>\n",
       "      <td>41</td>\n",
       "      <td>54</td>\n",
       "      <td>27</td>\n",
       "      <td>11</td>\n",
       "      <td>17</td>\n",
       "      <td>19</td>\n",
       "      <td>54</td>\n",
       "      <td>PM25</td>\n",
       "      <td>SEDANG</td>\n",
       "    </tr>\n",
       "    <tr>\n",
       "      <th>2</th>\n",
       "      <td>2021-04-03</td>\n",
       "      <td>DKI1 (Bunderan HI)</td>\n",
       "      <td>25</td>\n",
       "      <td>42</td>\n",
       "      <td>20</td>\n",
       "      <td>8</td>\n",
       "      <td>18</td>\n",
       "      <td>22</td>\n",
       "      <td>42</td>\n",
       "      <td>PM25</td>\n",
       "      <td>BAIK</td>\n",
       "    </tr>\n",
       "    <tr>\n",
       "      <th>3</th>\n",
       "      <td>2021-04-04</td>\n",
       "      <td>DKI1 (Bunderan HI)</td>\n",
       "      <td>57</td>\n",
       "      <td>78</td>\n",
       "      <td>21</td>\n",
       "      <td>23</td>\n",
       "      <td>14</td>\n",
       "      <td>33</td>\n",
       "      <td>78</td>\n",
       "      <td>PM25</td>\n",
       "      <td>SEDANG</td>\n",
       "    </tr>\n",
       "    <tr>\n",
       "      <th>4</th>\n",
       "      <td>2021-04-05</td>\n",
       "      <td>DKI1 (Bunderan HI)</td>\n",
       "      <td>52</td>\n",
       "      <td>69</td>\n",
       "      <td>22</td>\n",
       "      <td>15</td>\n",
       "      <td>18</td>\n",
       "      <td>27</td>\n",
       "      <td>69</td>\n",
       "      <td>PM25</td>\n",
       "      <td>SEDANG</td>\n",
       "    </tr>\n",
       "  </tbody>\n",
       "</table>\n",
       "</div>"
      ],
      "text/plain": [
       "      tanggal             stasiun pm10 pm25 so2  co  o3 no2  max critical  \\\n",
       "0  2021-04-01  DKI1 (Bunderan HI)   26   42  22  11  13  19   42     PM25   \n",
       "1  2021-04-02  DKI1 (Bunderan HI)   41   54  27  11  17  19   54     PM25   \n",
       "2  2021-04-03  DKI1 (Bunderan HI)   25   42  20   8  18  22   42     PM25   \n",
       "3  2021-04-04  DKI1 (Bunderan HI)   57   78  21  23  14  33   78     PM25   \n",
       "4  2021-04-05  DKI1 (Bunderan HI)   52   69  22  15  18  27   69     PM25   \n",
       "\n",
       "  categori  \n",
       "0     BAIK  \n",
       "1   SEDANG  \n",
       "2     BAIK  \n",
       "3   SEDANG  \n",
       "4   SEDANG  "
      ]
     },
     "execution_count": 3,
     "metadata": {},
     "output_type": "execute_result"
    }
   ],
   "source": [
    "df.head()"
   ]
  },
  {
   "cell_type": "code",
   "execution_count": 4,
   "metadata": {
    "colab": {
     "base_uri": "https://localhost:8080/"
    },
    "id": "q_fJ5R-KOTNs",
    "outputId": "8b90a23f-8acb-4c6e-a2ee-619fe45e29af"
   },
   "outputs": [
    {
     "data": {
      "text/plain": [
       "tanggal     object\n",
       "stasiun     object\n",
       "pm10        object\n",
       "pm25        object\n",
       "so2         object\n",
       "co          object\n",
       "o3          object\n",
       "no2         object\n",
       "max          int64\n",
       "critical    object\n",
       "categori    object\n",
       "dtype: object"
      ]
     },
     "execution_count": 4,
     "metadata": {},
     "output_type": "execute_result"
    }
   ],
   "source": [
    "df.dtypes"
   ]
  },
  {
   "cell_type": "code",
   "execution_count": 5,
   "metadata": {
    "colab": {
     "base_uri": "https://localhost:8080/"
    },
    "id": "5DdiN7aNOiZp",
    "outputId": "4393e122-86e2-4903-d5bf-f3ae2a3b110f"
   },
   "outputs": [
    {
     "data": {
      "text/plain": [
       "(755, 11)"
      ]
     },
     "execution_count": 5,
     "metadata": {},
     "output_type": "execute_result"
    }
   ],
   "source": [
    "df.shape"
   ]
  },
  {
   "cell_type": "code",
   "execution_count": 6,
   "metadata": {
    "colab": {
     "base_uri": "https://localhost:8080/",
     "height": 0
    },
    "id": "kpEMbZrQOWbn",
    "outputId": "0cae9849-80f7-4c6a-8d65-0eb746688237"
   },
   "outputs": [
    {
     "data": {
      "text/html": [
       "<div>\n",
       "<style scoped>\n",
       "    .dataframe tbody tr th:only-of-type {\n",
       "        vertical-align: middle;\n",
       "    }\n",
       "\n",
       "    .dataframe tbody tr th {\n",
       "        vertical-align: top;\n",
       "    }\n",
       "\n",
       "    .dataframe thead th {\n",
       "        text-align: right;\n",
       "    }\n",
       "</style>\n",
       "<table border=\"1\" class=\"dataframe\">\n",
       "  <thead>\n",
       "    <tr style=\"text-align: right;\">\n",
       "      <th></th>\n",
       "      <th>tanggal</th>\n",
       "      <th>stasiun</th>\n",
       "      <th>pm10</th>\n",
       "      <th>pm25</th>\n",
       "      <th>so2</th>\n",
       "      <th>co</th>\n",
       "      <th>o3</th>\n",
       "      <th>no2</th>\n",
       "      <th>max</th>\n",
       "      <th>critical</th>\n",
       "      <th>categori</th>\n",
       "    </tr>\n",
       "  </thead>\n",
       "  <tbody>\n",
       "    <tr>\n",
       "      <th>count</th>\n",
       "      <td>755</td>\n",
       "      <td>755</td>\n",
       "      <td>755</td>\n",
       "      <td>693</td>\n",
       "      <td>755</td>\n",
       "      <td>755</td>\n",
       "      <td>755</td>\n",
       "      <td>755</td>\n",
       "      <td>755.000000</td>\n",
       "      <td>748</td>\n",
       "      <td>755</td>\n",
       "    </tr>\n",
       "    <tr>\n",
       "      <th>unique</th>\n",
       "      <td>151</td>\n",
       "      <td>5</td>\n",
       "      <td>71</td>\n",
       "      <td>103</td>\n",
       "      <td>59</td>\n",
       "      <td>38</td>\n",
       "      <td>75</td>\n",
       "      <td>44</td>\n",
       "      <td>NaN</td>\n",
       "      <td>5</td>\n",
       "      <td>4</td>\n",
       "    </tr>\n",
       "    <tr>\n",
       "      <th>top</th>\n",
       "      <td>2021-04-01</td>\n",
       "      <td>DKI1 (Bunderan HI)</td>\n",
       "      <td>51</td>\n",
       "      <td>77</td>\n",
       "      <td>24</td>\n",
       "      <td>9</td>\n",
       "      <td>---</td>\n",
       "      <td>13</td>\n",
       "      <td>NaN</td>\n",
       "      <td>PM25</td>\n",
       "      <td>SEDANG</td>\n",
       "    </tr>\n",
       "    <tr>\n",
       "      <th>freq</th>\n",
       "      <td>5</td>\n",
       "      <td>151</td>\n",
       "      <td>35</td>\n",
       "      <td>22</td>\n",
       "      <td>40</td>\n",
       "      <td>70</td>\n",
       "      <td>31</td>\n",
       "      <td>42</td>\n",
       "      <td>NaN</td>\n",
       "      <td>625</td>\n",
       "      <td>558</td>\n",
       "    </tr>\n",
       "    <tr>\n",
       "      <th>mean</th>\n",
       "      <td>NaN</td>\n",
       "      <td>NaN</td>\n",
       "      <td>NaN</td>\n",
       "      <td>NaN</td>\n",
       "      <td>NaN</td>\n",
       "      <td>NaN</td>\n",
       "      <td>NaN</td>\n",
       "      <td>NaN</td>\n",
       "      <td>69.607947</td>\n",
       "      <td>NaN</td>\n",
       "      <td>NaN</td>\n",
       "    </tr>\n",
       "    <tr>\n",
       "      <th>std</th>\n",
       "      <td>NaN</td>\n",
       "      <td>NaN</td>\n",
       "      <td>NaN</td>\n",
       "      <td>NaN</td>\n",
       "      <td>NaN</td>\n",
       "      <td>NaN</td>\n",
       "      <td>NaN</td>\n",
       "      <td>NaN</td>\n",
       "      <td>22.147203</td>\n",
       "      <td>NaN</td>\n",
       "      <td>NaN</td>\n",
       "    </tr>\n",
       "    <tr>\n",
       "      <th>min</th>\n",
       "      <td>NaN</td>\n",
       "      <td>NaN</td>\n",
       "      <td>NaN</td>\n",
       "      <td>NaN</td>\n",
       "      <td>NaN</td>\n",
       "      <td>NaN</td>\n",
       "      <td>NaN</td>\n",
       "      <td>NaN</td>\n",
       "      <td>0.000000</td>\n",
       "      <td>NaN</td>\n",
       "      <td>NaN</td>\n",
       "    </tr>\n",
       "    <tr>\n",
       "      <th>25%</th>\n",
       "      <td>NaN</td>\n",
       "      <td>NaN</td>\n",
       "      <td>NaN</td>\n",
       "      <td>NaN</td>\n",
       "      <td>NaN</td>\n",
       "      <td>NaN</td>\n",
       "      <td>NaN</td>\n",
       "      <td>NaN</td>\n",
       "      <td>54.000000</td>\n",
       "      <td>NaN</td>\n",
       "      <td>NaN</td>\n",
       "    </tr>\n",
       "    <tr>\n",
       "      <th>50%</th>\n",
       "      <td>NaN</td>\n",
       "      <td>NaN</td>\n",
       "      <td>NaN</td>\n",
       "      <td>NaN</td>\n",
       "      <td>NaN</td>\n",
       "      <td>NaN</td>\n",
       "      <td>NaN</td>\n",
       "      <td>NaN</td>\n",
       "      <td>69.000000</td>\n",
       "      <td>NaN</td>\n",
       "      <td>NaN</td>\n",
       "    </tr>\n",
       "    <tr>\n",
       "      <th>75%</th>\n",
       "      <td>NaN</td>\n",
       "      <td>NaN</td>\n",
       "      <td>NaN</td>\n",
       "      <td>NaN</td>\n",
       "      <td>NaN</td>\n",
       "      <td>NaN</td>\n",
       "      <td>NaN</td>\n",
       "      <td>NaN</td>\n",
       "      <td>84.000000</td>\n",
       "      <td>NaN</td>\n",
       "      <td>NaN</td>\n",
       "    </tr>\n",
       "    <tr>\n",
       "      <th>max</th>\n",
       "      <td>NaN</td>\n",
       "      <td>NaN</td>\n",
       "      <td>NaN</td>\n",
       "      <td>NaN</td>\n",
       "      <td>NaN</td>\n",
       "      <td>NaN</td>\n",
       "      <td>NaN</td>\n",
       "      <td>NaN</td>\n",
       "      <td>151.000000</td>\n",
       "      <td>NaN</td>\n",
       "      <td>NaN</td>\n",
       "    </tr>\n",
       "  </tbody>\n",
       "</table>\n",
       "</div>"
      ],
      "text/plain": [
       "           tanggal             stasiun pm10 pm25  so2   co   o3  no2  \\\n",
       "count          755                 755  755  693  755  755  755  755   \n",
       "unique         151                   5   71  103   59   38   75   44   \n",
       "top     2021-04-01  DKI1 (Bunderan HI)   51   77   24    9  ---   13   \n",
       "freq             5                 151   35   22   40   70   31   42   \n",
       "mean           NaN                 NaN  NaN  NaN  NaN  NaN  NaN  NaN   \n",
       "std            NaN                 NaN  NaN  NaN  NaN  NaN  NaN  NaN   \n",
       "min            NaN                 NaN  NaN  NaN  NaN  NaN  NaN  NaN   \n",
       "25%            NaN                 NaN  NaN  NaN  NaN  NaN  NaN  NaN   \n",
       "50%            NaN                 NaN  NaN  NaN  NaN  NaN  NaN  NaN   \n",
       "75%            NaN                 NaN  NaN  NaN  NaN  NaN  NaN  NaN   \n",
       "max            NaN                 NaN  NaN  NaN  NaN  NaN  NaN  NaN   \n",
       "\n",
       "               max critical categori  \n",
       "count   755.000000      748      755  \n",
       "unique         NaN        5        4  \n",
       "top            NaN     PM25   SEDANG  \n",
       "freq           NaN      625      558  \n",
       "mean     69.607947      NaN      NaN  \n",
       "std      22.147203      NaN      NaN  \n",
       "min       0.000000      NaN      NaN  \n",
       "25%      54.000000      NaN      NaN  \n",
       "50%      69.000000      NaN      NaN  \n",
       "75%      84.000000      NaN      NaN  \n",
       "max     151.000000      NaN      NaN  "
      ]
     },
     "execution_count": 6,
     "metadata": {},
     "output_type": "execute_result"
    }
   ],
   "source": [
    "df.describe(include='all')"
   ]
  },
  {
   "cell_type": "code",
   "execution_count": 7,
   "metadata": {
    "colab": {
     "base_uri": "https://localhost:8080/"
    },
    "id": "UaeQ5_2sOmXX",
    "outputId": "dcc63bb4-bda6-427d-e6ac-8b777936e703"
   },
   "outputs": [
    {
     "data": {
      "text/plain": [
       "categori\n",
       "BAIK              125\n",
       "SEDANG            558\n",
       "TIDAK ADA DATA      7\n",
       "TIDAK SEHAT        65\n",
       "dtype: int64"
      ]
     },
     "execution_count": 7,
     "metadata": {},
     "output_type": "execute_result"
    }
   ],
   "source": [
    "df.groupby('categori').size()"
   ]
  },
  {
   "cell_type": "code",
   "execution_count": 8,
   "metadata": {
    "colab": {
     "base_uri": "https://localhost:8080/",
     "height": 0
    },
    "id": "rviUFKL1PL3c",
    "outputId": "3d7ccdc8-4fae-4597-8bbf-99189ca5b6d7"
   },
   "outputs": [
    {
     "data": {
      "text/plain": [
       "<AxesSubplot:>"
      ]
     },
     "execution_count": 8,
     "metadata": {},
     "output_type": "execute_result"
    },
    {
     "data": {
      "image/png": "[encoded data removed]",
      "text/plain": [
       "<Figure size 432x288 with 1 Axes>"
      ]
     },
     "metadata": {
      "needs_background": "light"
     },
     "output_type": "display_data"
    }
   ],
   "source": [
    "df['categori'].hist()"
   ]
  },
  {
   "cell_type": "markdown",
   "metadata": {
    "id": "W6mhg3cNPRtN"
   },
   "source": [
    "##**Data Missing**"
   ]
  },
  {
   "cell_type": "code",
   "execution_count": 9,
   "metadata": {
    "colab": {
     "base_uri": "https://localhost:8080/"
    },
    "id": "eRuGwnrfPe9J",
    "outputId": "a54aaaa2-d4b4-4a09-c7ce-3d3fff73530f"
   },
   "outputs": [
    {
     "data": {
      "text/plain": [
       "tanggal      0\n",
       "stasiun      0\n",
       "pm10         0\n",
       "pm25        62\n",
       "so2          0\n",
       "co           0\n",
       "o3           0\n",
       "no2          0\n",
       "max          0\n",
       "critical     7\n",
       "categori     0\n",
       "dtype: int64"
      ]
     },
     "execution_count": 9,
     "metadata": {},
     "output_type": "execute_result"
    }
   ],
   "source": [
    "#cek missing value\n",
    "\n",
    "df.isna().sum()"
   ]
  },
  {
   "cell_type": "code",
   "execution_count": 10,
   "metadata": {
    "id": "OqTqBO22ljiB"
   },
   "outputs": [],
   "source": [
    "df = df.dropna()"
   ]
  },
  {
   "cell_type": "code",
   "execution_count": 11,
   "metadata": {
    "colab": {
     "base_uri": "https://localhost:8080/"
    },
    "id": "iUYO_dgll3hX",
    "outputId": "48e3b0ab-b676-4899-d597-73128dc56abf"
   },
   "outputs": [
    {
     "data": {
      "text/plain": [
       "tanggal     0\n",
       "stasiun     0\n",
       "pm10        0\n",
       "pm25        0\n",
       "so2         0\n",
       "co          0\n",
       "o3          0\n",
       "no2         0\n",
       "max         0\n",
       "critical    0\n",
       "categori    0\n",
       "dtype: int64"
      ]
     },
     "execution_count": 11,
     "metadata": {},
     "output_type": "execute_result"
    }
   ],
   "source": [
    "df.groupby(\"categori\").size()\n",
    "df.isnull().sum()"
   ]
  },
  {
   "cell_type": "code",
   "execution_count": 12,
   "metadata": {
    "colab": {
     "base_uri": "https://localhost:8080/"
    },
    "id": "5GcjAlNCmHTq",
    "outputId": "139c13f7-9bcf-4ff0-ed1d-e591c1870dd7"
   },
   "outputs": [
    {
     "data": {
      "text/plain": [
       "tanggal     object\n",
       "stasiun     object\n",
       "pm10        object\n",
       "pm25        object\n",
       "so2         object\n",
       "co          object\n",
       "o3          object\n",
       "no2         object\n",
       "max          int64\n",
       "critical    object\n",
       "categori    object\n",
       "dtype: object"
      ]
     },
     "execution_count": 12,
     "metadata": {},
     "output_type": "execute_result"
    }
   ],
   "source": [
    "df.dtypes"
   ]
  },
  {
   "cell_type": "code",
   "execution_count": 13,
   "metadata": {
    "colab": {
     "base_uri": "https://localhost:8080/"
    },
    "id": "JrdYh5dDolba",
    "outputId": "6d72c146-4878-45f8-c251-30a437e5f2b9"
   },
   "outputs": [
    {
     "data": {
      "text/plain": [
       "51     33\n",
       "52     27\n",
       "55     25\n",
       "54     25\n",
       "---    23\n",
       "       ..\n",
       "16      1\n",
       "20      1\n",
       "84      1\n",
       "89      1\n",
       "86      1\n",
       "Name: pm10, Length: 69, dtype: int64"
      ]
     },
     "execution_count": 13,
     "metadata": {},
     "output_type": "execute_result"
    }
   ],
   "source": [
    "df[\"pm10\"].value_counts()"
   ]
  },
  {
   "cell_type": "code",
   "execution_count": 14,
   "metadata": {
    "colab": {
     "base_uri": "https://localhost:8080/"
    },
    "id": "Jl4Us_Vu2LA6",
    "outputId": "b3b6da45-6c45-45d6-ea91-1dcf5c59d122"
   },
   "outputs": [
    {
     "data": {
      "text/plain": [
       "Int64Index([ 48,  71,  78, 263, 266, 267, 268, 269, 270, 362, 363, 579, 580,\n",
       "            672, 673, 674, 675, 676, 677, 678, 679, 680, 681],\n",
       "           dtype='int64')"
      ]
     },
     "execution_count": 14,
     "metadata": {},
     "output_type": "execute_result"
    }
   ],
   "source": [
    "df[df[\"pm10\"]==\"---\"].index"
   ]
  },
  {
   "cell_type": "code",
   "execution_count": 15,
   "metadata": {
    "colab": {
     "base_uri": "https://localhost:8080/",
     "height": 0
    },
    "id": "SIZMMDvP3ohg",
    "outputId": "4e64deff-80a2-4bc3-b701-a433efa3850b"
   },
   "outputs": [
    {
     "data": {
      "text/html": [
       "<div>\n",
       "<style scoped>\n",
       "    .dataframe tbody tr th:only-of-type {\n",
       "        vertical-align: middle;\n",
       "    }\n",
       "\n",
       "    .dataframe tbody tr th {\n",
       "        vertical-align: top;\n",
       "    }\n",
       "\n",
       "    .dataframe thead th {\n",
       "        text-align: right;\n",
       "    }\n",
       "</style>\n",
       "<table border=\"1\" class=\"dataframe\">\n",
       "  <thead>\n",
       "    <tr style=\"text-align: right;\">\n",
       "      <th></th>\n",
       "      <th>tanggal</th>\n",
       "      <th>stasiun</th>\n",
       "      <th>pm10</th>\n",
       "      <th>pm25</th>\n",
       "      <th>so2</th>\n",
       "      <th>co</th>\n",
       "      <th>o3</th>\n",
       "      <th>no2</th>\n",
       "      <th>max</th>\n",
       "      <th>critical</th>\n",
       "      <th>categori</th>\n",
       "    </tr>\n",
       "  </thead>\n",
       "  <tbody>\n",
       "    <tr>\n",
       "      <th>0</th>\n",
       "      <td>2021-04-01</td>\n",
       "      <td>DKI1 (Bunderan HI)</td>\n",
       "      <td>26</td>\n",
       "      <td>42</td>\n",
       "      <td>22</td>\n",
       "      <td>11</td>\n",
       "      <td>13</td>\n",
       "      <td>19</td>\n",
       "      <td>42</td>\n",
       "      <td>PM25</td>\n",
       "      <td>BAIK</td>\n",
       "    </tr>\n",
       "    <tr>\n",
       "      <th>1</th>\n",
       "      <td>2021-04-02</td>\n",
       "      <td>DKI1 (Bunderan HI)</td>\n",
       "      <td>41</td>\n",
       "      <td>54</td>\n",
       "      <td>27</td>\n",
       "      <td>11</td>\n",
       "      <td>17</td>\n",
       "      <td>19</td>\n",
       "      <td>54</td>\n",
       "      <td>PM25</td>\n",
       "      <td>SEDANG</td>\n",
       "    </tr>\n",
       "    <tr>\n",
       "      <th>2</th>\n",
       "      <td>2021-04-03</td>\n",
       "      <td>DKI1 (Bunderan HI)</td>\n",
       "      <td>25</td>\n",
       "      <td>42</td>\n",
       "      <td>20</td>\n",
       "      <td>8</td>\n",
       "      <td>18</td>\n",
       "      <td>22</td>\n",
       "      <td>42</td>\n",
       "      <td>PM25</td>\n",
       "      <td>BAIK</td>\n",
       "    </tr>\n",
       "    <tr>\n",
       "      <th>3</th>\n",
       "      <td>2021-04-04</td>\n",
       "      <td>DKI1 (Bunderan HI)</td>\n",
       "      <td>57</td>\n",
       "      <td>78</td>\n",
       "      <td>21</td>\n",
       "      <td>23</td>\n",
       "      <td>14</td>\n",
       "      <td>33</td>\n",
       "      <td>78</td>\n",
       "      <td>PM25</td>\n",
       "      <td>SEDANG</td>\n",
       "    </tr>\n",
       "    <tr>\n",
       "      <th>4</th>\n",
       "      <td>2021-04-05</td>\n",
       "      <td>DKI1 (Bunderan HI)</td>\n",
       "      <td>52</td>\n",
       "      <td>69</td>\n",
       "      <td>22</td>\n",
       "      <td>15</td>\n",
       "      <td>18</td>\n",
       "      <td>27</td>\n",
       "      <td>69</td>\n",
       "      <td>PM25</td>\n",
       "      <td>SEDANG</td>\n",
       "    </tr>\n",
       "    <tr>\n",
       "      <th>...</th>\n",
       "      <td>...</td>\n",
       "      <td>...</td>\n",
       "      <td>...</td>\n",
       "      <td>...</td>\n",
       "      <td>...</td>\n",
       "      <td>...</td>\n",
       "      <td>...</td>\n",
       "      <td>...</td>\n",
       "      <td>...</td>\n",
       "      <td>...</td>\n",
       "      <td>...</td>\n",
       "    </tr>\n",
       "    <tr>\n",
       "      <th>750</th>\n",
       "      <td>2021-05-27</td>\n",
       "      <td>DKI5 (Kebon Jeruk) Jakarta Barat</td>\n",
       "      <td>34</td>\n",
       "      <td>61</td>\n",
       "      <td>32</td>\n",
       "      <td>5</td>\n",
       "      <td>20</td>\n",
       "      <td>11</td>\n",
       "      <td>61</td>\n",
       "      <td>PM25</td>\n",
       "      <td>SEDANG</td>\n",
       "    </tr>\n",
       "    <tr>\n",
       "      <th>751</th>\n",
       "      <td>2021-05-28</td>\n",
       "      <td>DKI5 (Kebon Jeruk) Jakarta Barat</td>\n",
       "      <td>49</td>\n",
       "      <td>77</td>\n",
       "      <td>37</td>\n",
       "      <td>8</td>\n",
       "      <td>20</td>\n",
       "      <td>19</td>\n",
       "      <td>77</td>\n",
       "      <td>PM25</td>\n",
       "      <td>SEDANG</td>\n",
       "    </tr>\n",
       "    <tr>\n",
       "      <th>752</th>\n",
       "      <td>2021-05-29</td>\n",
       "      <td>DKI5 (Kebon Jeruk) Jakarta Barat</td>\n",
       "      <td>54</td>\n",
       "      <td>88</td>\n",
       "      <td>37</td>\n",
       "      <td>11</td>\n",
       "      <td>19</td>\n",
       "      <td>29</td>\n",
       "      <td>88</td>\n",
       "      <td>PM25</td>\n",
       "      <td>SEDANG</td>\n",
       "    </tr>\n",
       "    <tr>\n",
       "      <th>753</th>\n",
       "      <td>2021-05-30</td>\n",
       "      <td>DKI5 (Kebon Jeruk) Jakarta Barat</td>\n",
       "      <td>46</td>\n",
       "      <td>66</td>\n",
       "      <td>24</td>\n",
       "      <td>15</td>\n",
       "      <td>18</td>\n",
       "      <td>29</td>\n",
       "      <td>66</td>\n",
       "      <td>PM25</td>\n",
       "      <td>SEDANG</td>\n",
       "    </tr>\n",
       "    <tr>\n",
       "      <th>754</th>\n",
       "      <td>2021-05-31</td>\n",
       "      <td>DKI5 (Kebon Jeruk) Jakarta Barat</td>\n",
       "      <td>52</td>\n",
       "      <td>82</td>\n",
       "      <td>21</td>\n",
       "      <td>11</td>\n",
       "      <td>27</td>\n",
       "      <td>18</td>\n",
       "      <td>82</td>\n",
       "      <td>PM25</td>\n",
       "      <td>SEDANG</td>\n",
       "    </tr>\n",
       "  </tbody>\n",
       "</table>\n",
       "<p>683 rows × 11 columns</p>\n",
       "</div>"
      ],
      "text/plain": [
       "        tanggal                           stasiun pm10 pm25 so2  co  o3 no2  \\\n",
       "0    2021-04-01                DKI1 (Bunderan HI)   26   42  22  11  13  19   \n",
       "1    2021-04-02                DKI1 (Bunderan HI)   41   54  27  11  17  19   \n",
       "2    2021-04-03                DKI1 (Bunderan HI)   25   42  20   8  18  22   \n",
       "3    2021-04-04                DKI1 (Bunderan HI)   57   78  21  23  14  33   \n",
       "4    2021-04-05                DKI1 (Bunderan HI)   52   69  22  15  18  27   \n",
       "..          ...                               ...  ...  ...  ..  ..  ..  ..   \n",
       "750  2021-05-27  DKI5 (Kebon Jeruk) Jakarta Barat   34   61  32   5  20  11   \n",
       "751  2021-05-28  DKI5 (Kebon Jeruk) Jakarta Barat   49   77  37   8  20  19   \n",
       "752  2021-05-29  DKI5 (Kebon Jeruk) Jakarta Barat   54   88  37  11  19  29   \n",
       "753  2021-05-30  DKI5 (Kebon Jeruk) Jakarta Barat   46   66  24  15  18  29   \n",
       "754  2021-05-31  DKI5 (Kebon Jeruk) Jakarta Barat   52   82  21  11  27  18   \n",
       "\n",
       "     max critical categori  \n",
       "0     42     PM25     BAIK  \n",
       "1     54     PM25   SEDANG  \n",
       "2     42     PM25     BAIK  \n",
       "3     78     PM25   SEDANG  \n",
       "4     69     PM25   SEDANG  \n",
       "..   ...      ...      ...  \n",
       "750   61     PM25   SEDANG  \n",
       "751   77     PM25   SEDANG  \n",
       "752   88     PM25   SEDANG  \n",
       "753   66     PM25   SEDANG  \n",
       "754   82     PM25   SEDANG  \n",
       "\n",
       "[683 rows x 11 columns]"
      ]
     },
     "execution_count": 15,
     "metadata": {},
     "output_type": "execute_result"
    }
   ],
   "source": [
    "df=df.drop(df[df[\"no2\"]==\"---\"].index)\n",
    "df"
   ]
  },
  {
   "cell_type": "code",
   "execution_count": 16,
   "metadata": {
    "colab": {
     "base_uri": "https://localhost:8080/",
     "height": 0
    },
    "id": "sNLtL3PB5KRG",
    "outputId": "e43b9251-7455-482b-cd43-64f378619ae8"
   },
   "outputs": [
    {
     "data": {
      "text/html": [
       "<div>\n",
       "<style scoped>\n",
       "    .dataframe tbody tr th:only-of-type {\n",
       "        vertical-align: middle;\n",
       "    }\n",
       "\n",
       "    .dataframe tbody tr th {\n",
       "        vertical-align: top;\n",
       "    }\n",
       "\n",
       "    .dataframe thead th {\n",
       "        text-align: right;\n",
       "    }\n",
       "</style>\n",
       "<table border=\"1\" class=\"dataframe\">\n",
       "  <thead>\n",
       "    <tr style=\"text-align: right;\">\n",
       "      <th></th>\n",
       "      <th>tanggal</th>\n",
       "      <th>stasiun</th>\n",
       "      <th>pm10</th>\n",
       "      <th>pm25</th>\n",
       "      <th>so2</th>\n",
       "      <th>co</th>\n",
       "      <th>o3</th>\n",
       "      <th>no2</th>\n",
       "      <th>max</th>\n",
       "      <th>critical</th>\n",
       "      <th>categori</th>\n",
       "    </tr>\n",
       "  </thead>\n",
       "  <tbody>\n",
       "    <tr>\n",
       "      <th>0</th>\n",
       "      <td>2021-04-01</td>\n",
       "      <td>DKI1 (Bunderan HI)</td>\n",
       "      <td>26</td>\n",
       "      <td>42</td>\n",
       "      <td>22</td>\n",
       "      <td>11</td>\n",
       "      <td>13</td>\n",
       "      <td>19</td>\n",
       "      <td>42</td>\n",
       "      <td>PM25</td>\n",
       "      <td>BAIK</td>\n",
       "    </tr>\n",
       "    <tr>\n",
       "      <th>1</th>\n",
       "      <td>2021-04-02</td>\n",
       "      <td>DKI1 (Bunderan HI)</td>\n",
       "      <td>41</td>\n",
       "      <td>54</td>\n",
       "      <td>27</td>\n",
       "      <td>11</td>\n",
       "      <td>17</td>\n",
       "      <td>19</td>\n",
       "      <td>54</td>\n",
       "      <td>PM25</td>\n",
       "      <td>SEDANG</td>\n",
       "    </tr>\n",
       "    <tr>\n",
       "      <th>2</th>\n",
       "      <td>2021-04-03</td>\n",
       "      <td>DKI1 (Bunderan HI)</td>\n",
       "      <td>25</td>\n",
       "      <td>42</td>\n",
       "      <td>20</td>\n",
       "      <td>8</td>\n",
       "      <td>18</td>\n",
       "      <td>22</td>\n",
       "      <td>42</td>\n",
       "      <td>PM25</td>\n",
       "      <td>BAIK</td>\n",
       "    </tr>\n",
       "    <tr>\n",
       "      <th>3</th>\n",
       "      <td>2021-04-04</td>\n",
       "      <td>DKI1 (Bunderan HI)</td>\n",
       "      <td>57</td>\n",
       "      <td>78</td>\n",
       "      <td>21</td>\n",
       "      <td>23</td>\n",
       "      <td>14</td>\n",
       "      <td>33</td>\n",
       "      <td>78</td>\n",
       "      <td>PM25</td>\n",
       "      <td>SEDANG</td>\n",
       "    </tr>\n",
       "    <tr>\n",
       "      <th>4</th>\n",
       "      <td>2021-04-05</td>\n",
       "      <td>DKI1 (Bunderan HI)</td>\n",
       "      <td>52</td>\n",
       "      <td>69</td>\n",
       "      <td>22</td>\n",
       "      <td>15</td>\n",
       "      <td>18</td>\n",
       "      <td>27</td>\n",
       "      <td>69</td>\n",
       "      <td>PM25</td>\n",
       "      <td>SEDANG</td>\n",
       "    </tr>\n",
       "    <tr>\n",
       "      <th>...</th>\n",
       "      <td>...</td>\n",
       "      <td>...</td>\n",
       "      <td>...</td>\n",
       "      <td>...</td>\n",
       "      <td>...</td>\n",
       "      <td>...</td>\n",
       "      <td>...</td>\n",
       "      <td>...</td>\n",
       "      <td>...</td>\n",
       "      <td>...</td>\n",
       "      <td>...</td>\n",
       "    </tr>\n",
       "    <tr>\n",
       "      <th>750</th>\n",
       "      <td>2021-05-27</td>\n",
       "      <td>DKI5 (Kebon Jeruk) Jakarta Barat</td>\n",
       "      <td>34</td>\n",
       "      <td>61</td>\n",
       "      <td>32</td>\n",
       "      <td>5</td>\n",
       "      <td>20</td>\n",
       "      <td>11</td>\n",
       "      <td>61</td>\n",
       "      <td>PM25</td>\n",
       "      <td>SEDANG</td>\n",
       "    </tr>\n",
       "    <tr>\n",
       "      <th>751</th>\n",
       "      <td>2021-05-28</td>\n",
       "      <td>DKI5 (Kebon Jeruk) Jakarta Barat</td>\n",
       "      <td>49</td>\n",
       "      <td>77</td>\n",
       "      <td>37</td>\n",
       "      <td>8</td>\n",
       "      <td>20</td>\n",
       "      <td>19</td>\n",
       "      <td>77</td>\n",
       "      <td>PM25</td>\n",
       "      <td>SEDANG</td>\n",
       "    </tr>\n",
       "    <tr>\n",
       "      <th>752</th>\n",
       "      <td>2021-05-29</td>\n",
       "      <td>DKI5 (Kebon Jeruk) Jakarta Barat</td>\n",
       "      <td>54</td>\n",
       "      <td>88</td>\n",
       "      <td>37</td>\n",
       "      <td>11</td>\n",
       "      <td>19</td>\n",
       "      <td>29</td>\n",
       "      <td>88</td>\n",
       "      <td>PM25</td>\n",
       "      <td>SEDANG</td>\n",
       "    </tr>\n",
       "    <tr>\n",
       "      <th>753</th>\n",
       "      <td>2021-05-30</td>\n",
       "      <td>DKI5 (Kebon Jeruk) Jakarta Barat</td>\n",
       "      <td>46</td>\n",
       "      <td>66</td>\n",
       "      <td>24</td>\n",
       "      <td>15</td>\n",
       "      <td>18</td>\n",
       "      <td>29</td>\n",
       "      <td>66</td>\n",
       "      <td>PM25</td>\n",
       "      <td>SEDANG</td>\n",
       "    </tr>\n",
       "    <tr>\n",
       "      <th>754</th>\n",
       "      <td>2021-05-31</td>\n",
       "      <td>DKI5 (Kebon Jeruk) Jakarta Barat</td>\n",
       "      <td>52</td>\n",
       "      <td>82</td>\n",
       "      <td>21</td>\n",
       "      <td>11</td>\n",
       "      <td>27</td>\n",
       "      <td>18</td>\n",
       "      <td>82</td>\n",
       "      <td>PM25</td>\n",
       "      <td>SEDANG</td>\n",
       "    </tr>\n",
       "  </tbody>\n",
       "</table>\n",
       "<p>660 rows × 11 columns</p>\n",
       "</div>"
      ],
      "text/plain": [
       "        tanggal                           stasiun pm10 pm25 so2  co  o3 no2  \\\n",
       "0    2021-04-01                DKI1 (Bunderan HI)   26   42  22  11  13  19   \n",
       "1    2021-04-02                DKI1 (Bunderan HI)   41   54  27  11  17  19   \n",
       "2    2021-04-03                DKI1 (Bunderan HI)   25   42  20   8  18  22   \n",
       "3    2021-04-04                DKI1 (Bunderan HI)   57   78  21  23  14  33   \n",
       "4    2021-04-05                DKI1 (Bunderan HI)   52   69  22  15  18  27   \n",
       "..          ...                               ...  ...  ...  ..  ..  ..  ..   \n",
       "750  2021-05-27  DKI5 (Kebon Jeruk) Jakarta Barat   34   61  32   5  20  11   \n",
       "751  2021-05-28  DKI5 (Kebon Jeruk) Jakarta Barat   49   77  37   8  20  19   \n",
       "752  2021-05-29  DKI5 (Kebon Jeruk) Jakarta Barat   54   88  37  11  19  29   \n",
       "753  2021-05-30  DKI5 (Kebon Jeruk) Jakarta Barat   46   66  24  15  18  29   \n",
       "754  2021-05-31  DKI5 (Kebon Jeruk) Jakarta Barat   52   82  21  11  27  18   \n",
       "\n",
       "     max critical categori  \n",
       "0     42     PM25     BAIK  \n",
       "1     54     PM25   SEDANG  \n",
       "2     42     PM25     BAIK  \n",
       "3     78     PM25   SEDANG  \n",
       "4     69     PM25   SEDANG  \n",
       "..   ...      ...      ...  \n",
       "750   61     PM25   SEDANG  \n",
       "751   77     PM25   SEDANG  \n",
       "752   88     PM25   SEDANG  \n",
       "753   66     PM25   SEDANG  \n",
       "754   82     PM25   SEDANG  \n",
       "\n",
       "[660 rows x 11 columns]"
      ]
     },
     "execution_count": 16,
     "metadata": {},
     "output_type": "execute_result"
    }
   ],
   "source": [
    "df=df.drop(df[df[\"o3\"]==\"---\"].index)\n",
    "df"
   ]
  },
  {
   "cell_type": "code",
   "execution_count": 17,
   "metadata": {
    "colab": {
     "base_uri": "https://localhost:8080/",
     "height": 0
    },
    "id": "3VPR8nla-jye",
    "outputId": "ccdf3452-6fb3-42bb-b1b0-8f8ed758b03c"
   },
   "outputs": [
    {
     "data": {
      "text/html": [
       "<div>\n",
       "<style scoped>\n",
       "    .dataframe tbody tr th:only-of-type {\n",
       "        vertical-align: middle;\n",
       "    }\n",
       "\n",
       "    .dataframe tbody tr th {\n",
       "        vertical-align: top;\n",
       "    }\n",
       "\n",
       "    .dataframe thead th {\n",
       "        text-align: right;\n",
       "    }\n",
       "</style>\n",
       "<table border=\"1\" class=\"dataframe\">\n",
       "  <thead>\n",
       "    <tr style=\"text-align: right;\">\n",
       "      <th></th>\n",
       "      <th>tanggal</th>\n",
       "      <th>stasiun</th>\n",
       "      <th>pm10</th>\n",
       "      <th>pm25</th>\n",
       "      <th>so2</th>\n",
       "      <th>co</th>\n",
       "      <th>o3</th>\n",
       "      <th>no2</th>\n",
       "      <th>max</th>\n",
       "      <th>critical</th>\n",
       "      <th>categori</th>\n",
       "    </tr>\n",
       "  </thead>\n",
       "  <tbody>\n",
       "    <tr>\n",
       "      <th>0</th>\n",
       "      <td>2021-04-01</td>\n",
       "      <td>DKI1 (Bunderan HI)</td>\n",
       "      <td>26</td>\n",
       "      <td>42</td>\n",
       "      <td>22</td>\n",
       "      <td>11</td>\n",
       "      <td>13</td>\n",
       "      <td>19</td>\n",
       "      <td>42</td>\n",
       "      <td>PM25</td>\n",
       "      <td>BAIK</td>\n",
       "    </tr>\n",
       "    <tr>\n",
       "      <th>1</th>\n",
       "      <td>2021-04-02</td>\n",
       "      <td>DKI1 (Bunderan HI)</td>\n",
       "      <td>41</td>\n",
       "      <td>54</td>\n",
       "      <td>27</td>\n",
       "      <td>11</td>\n",
       "      <td>17</td>\n",
       "      <td>19</td>\n",
       "      <td>54</td>\n",
       "      <td>PM25</td>\n",
       "      <td>SEDANG</td>\n",
       "    </tr>\n",
       "    <tr>\n",
       "      <th>2</th>\n",
       "      <td>2021-04-03</td>\n",
       "      <td>DKI1 (Bunderan HI)</td>\n",
       "      <td>25</td>\n",
       "      <td>42</td>\n",
       "      <td>20</td>\n",
       "      <td>8</td>\n",
       "      <td>18</td>\n",
       "      <td>22</td>\n",
       "      <td>42</td>\n",
       "      <td>PM25</td>\n",
       "      <td>BAIK</td>\n",
       "    </tr>\n",
       "    <tr>\n",
       "      <th>3</th>\n",
       "      <td>2021-04-04</td>\n",
       "      <td>DKI1 (Bunderan HI)</td>\n",
       "      <td>57</td>\n",
       "      <td>78</td>\n",
       "      <td>21</td>\n",
       "      <td>23</td>\n",
       "      <td>14</td>\n",
       "      <td>33</td>\n",
       "      <td>78</td>\n",
       "      <td>PM25</td>\n",
       "      <td>SEDANG</td>\n",
       "    </tr>\n",
       "    <tr>\n",
       "      <th>4</th>\n",
       "      <td>2021-04-05</td>\n",
       "      <td>DKI1 (Bunderan HI)</td>\n",
       "      <td>52</td>\n",
       "      <td>69</td>\n",
       "      <td>22</td>\n",
       "      <td>15</td>\n",
       "      <td>18</td>\n",
       "      <td>27</td>\n",
       "      <td>69</td>\n",
       "      <td>PM25</td>\n",
       "      <td>SEDANG</td>\n",
       "    </tr>\n",
       "    <tr>\n",
       "      <th>...</th>\n",
       "      <td>...</td>\n",
       "      <td>...</td>\n",
       "      <td>...</td>\n",
       "      <td>...</td>\n",
       "      <td>...</td>\n",
       "      <td>...</td>\n",
       "      <td>...</td>\n",
       "      <td>...</td>\n",
       "      <td>...</td>\n",
       "      <td>...</td>\n",
       "      <td>...</td>\n",
       "    </tr>\n",
       "    <tr>\n",
       "      <th>750</th>\n",
       "      <td>2021-05-27</td>\n",
       "      <td>DKI5 (Kebon Jeruk) Jakarta Barat</td>\n",
       "      <td>34</td>\n",
       "      <td>61</td>\n",
       "      <td>32</td>\n",
       "      <td>5</td>\n",
       "      <td>20</td>\n",
       "      <td>11</td>\n",
       "      <td>61</td>\n",
       "      <td>PM25</td>\n",
       "      <td>SEDANG</td>\n",
       "    </tr>\n",
       "    <tr>\n",
       "      <th>751</th>\n",
       "      <td>2021-05-28</td>\n",
       "      <td>DKI5 (Kebon Jeruk) Jakarta Barat</td>\n",
       "      <td>49</td>\n",
       "      <td>77</td>\n",
       "      <td>37</td>\n",
       "      <td>8</td>\n",
       "      <td>20</td>\n",
       "      <td>19</td>\n",
       "      <td>77</td>\n",
       "      <td>PM25</td>\n",
       "      <td>SEDANG</td>\n",
       "    </tr>\n",
       "    <tr>\n",
       "      <th>752</th>\n",
       "      <td>2021-05-29</td>\n",
       "      <td>DKI5 (Kebon Jeruk) Jakarta Barat</td>\n",
       "      <td>54</td>\n",
       "      <td>88</td>\n",
       "      <td>37</td>\n",
       "      <td>11</td>\n",
       "      <td>19</td>\n",
       "      <td>29</td>\n",
       "      <td>88</td>\n",
       "      <td>PM25</td>\n",
       "      <td>SEDANG</td>\n",
       "    </tr>\n",
       "    <tr>\n",
       "      <th>753</th>\n",
       "      <td>2021-05-30</td>\n",
       "      <td>DKI5 (Kebon Jeruk) Jakarta Barat</td>\n",
       "      <td>46</td>\n",
       "      <td>66</td>\n",
       "      <td>24</td>\n",
       "      <td>15</td>\n",
       "      <td>18</td>\n",
       "      <td>29</td>\n",
       "      <td>66</td>\n",
       "      <td>PM25</td>\n",
       "      <td>SEDANG</td>\n",
       "    </tr>\n",
       "    <tr>\n",
       "      <th>754</th>\n",
       "      <td>2021-05-31</td>\n",
       "      <td>DKI5 (Kebon Jeruk) Jakarta Barat</td>\n",
       "      <td>52</td>\n",
       "      <td>82</td>\n",
       "      <td>21</td>\n",
       "      <td>11</td>\n",
       "      <td>27</td>\n",
       "      <td>18</td>\n",
       "      <td>82</td>\n",
       "      <td>PM25</td>\n",
       "      <td>SEDANG</td>\n",
       "    </tr>\n",
       "  </tbody>\n",
       "</table>\n",
       "<p>647 rows × 11 columns</p>\n",
       "</div>"
      ],
      "text/plain": [
       "        tanggal                           stasiun pm10 pm25 so2  co  o3 no2  \\\n",
       "0    2021-04-01                DKI1 (Bunderan HI)   26   42  22  11  13  19   \n",
       "1    2021-04-02                DKI1 (Bunderan HI)   41   54  27  11  17  19   \n",
       "2    2021-04-03                DKI1 (Bunderan HI)   25   42  20   8  18  22   \n",
       "3    2021-04-04                DKI1 (Bunderan HI)   57   78  21  23  14  33   \n",
       "4    2021-04-05                DKI1 (Bunderan HI)   52   69  22  15  18  27   \n",
       "..          ...                               ...  ...  ...  ..  ..  ..  ..   \n",
       "750  2021-05-27  DKI5 (Kebon Jeruk) Jakarta Barat   34   61  32   5  20  11   \n",
       "751  2021-05-28  DKI5 (Kebon Jeruk) Jakarta Barat   49   77  37   8  20  19   \n",
       "752  2021-05-29  DKI5 (Kebon Jeruk) Jakarta Barat   54   88  37  11  19  29   \n",
       "753  2021-05-30  DKI5 (Kebon Jeruk) Jakarta Barat   46   66  24  15  18  29   \n",
       "754  2021-05-31  DKI5 (Kebon Jeruk) Jakarta Barat   52   82  21  11  27  18   \n",
       "\n",
       "     max critical categori  \n",
       "0     42     PM25     BAIK  \n",
       "1     54     PM25   SEDANG  \n",
       "2     42     PM25     BAIK  \n",
       "3     78     PM25   SEDANG  \n",
       "4     69     PM25   SEDANG  \n",
       "..   ...      ...      ...  \n",
       "750   61     PM25   SEDANG  \n",
       "751   77     PM25   SEDANG  \n",
       "752   88     PM25   SEDANG  \n",
       "753   66     PM25   SEDANG  \n",
       "754   82     PM25   SEDANG  \n",
       "\n",
       "[647 rows x 11 columns]"
      ]
     },
     "execution_count": 17,
     "metadata": {},
     "output_type": "execute_result"
    }
   ],
   "source": [
    "df=df.drop(df[df[\"co\"]==\"---\"].index)\n",
    "df"
   ]
  },
  {
   "cell_type": "code",
   "execution_count": 18,
   "metadata": {
    "colab": {
     "base_uri": "https://localhost:8080/",
     "height": 0
    },
    "id": "xXEmfIQF-vrZ",
    "outputId": "8c2b1f05-88e6-4ca4-d53a-8bf64e2fb3be"
   },
   "outputs": [
    {
     "data": {
      "text/html": [
       "<div>\n",
       "<style scoped>\n",
       "    .dataframe tbody tr th:only-of-type {\n",
       "        vertical-align: middle;\n",
       "    }\n",
       "\n",
       "    .dataframe tbody tr th {\n",
       "        vertical-align: top;\n",
       "    }\n",
       "\n",
       "    .dataframe thead th {\n",
       "        text-align: right;\n",
       "    }\n",
       "</style>\n",
       "<table border=\"1\" class=\"dataframe\">\n",
       "  <thead>\n",
       "    <tr style=\"text-align: right;\">\n",
       "      <th></th>\n",
       "      <th>tanggal</th>\n",
       "      <th>stasiun</th>\n",
       "      <th>pm10</th>\n",
       "      <th>pm25</th>\n",
       "      <th>so2</th>\n",
       "      <th>co</th>\n",
       "      <th>o3</th>\n",
       "      <th>no2</th>\n",
       "      <th>max</th>\n",
       "      <th>critical</th>\n",
       "      <th>categori</th>\n",
       "    </tr>\n",
       "  </thead>\n",
       "  <tbody>\n",
       "    <tr>\n",
       "      <th>0</th>\n",
       "      <td>2021-04-01</td>\n",
       "      <td>DKI1 (Bunderan HI)</td>\n",
       "      <td>26</td>\n",
       "      <td>42</td>\n",
       "      <td>22</td>\n",
       "      <td>11</td>\n",
       "      <td>13</td>\n",
       "      <td>19</td>\n",
       "      <td>42</td>\n",
       "      <td>PM25</td>\n",
       "      <td>BAIK</td>\n",
       "    </tr>\n",
       "    <tr>\n",
       "      <th>1</th>\n",
       "      <td>2021-04-02</td>\n",
       "      <td>DKI1 (Bunderan HI)</td>\n",
       "      <td>41</td>\n",
       "      <td>54</td>\n",
       "      <td>27</td>\n",
       "      <td>11</td>\n",
       "      <td>17</td>\n",
       "      <td>19</td>\n",
       "      <td>54</td>\n",
       "      <td>PM25</td>\n",
       "      <td>SEDANG</td>\n",
       "    </tr>\n",
       "    <tr>\n",
       "      <th>2</th>\n",
       "      <td>2021-04-03</td>\n",
       "      <td>DKI1 (Bunderan HI)</td>\n",
       "      <td>25</td>\n",
       "      <td>42</td>\n",
       "      <td>20</td>\n",
       "      <td>8</td>\n",
       "      <td>18</td>\n",
       "      <td>22</td>\n",
       "      <td>42</td>\n",
       "      <td>PM25</td>\n",
       "      <td>BAIK</td>\n",
       "    </tr>\n",
       "    <tr>\n",
       "      <th>3</th>\n",
       "      <td>2021-04-04</td>\n",
       "      <td>DKI1 (Bunderan HI)</td>\n",
       "      <td>57</td>\n",
       "      <td>78</td>\n",
       "      <td>21</td>\n",
       "      <td>23</td>\n",
       "      <td>14</td>\n",
       "      <td>33</td>\n",
       "      <td>78</td>\n",
       "      <td>PM25</td>\n",
       "      <td>SEDANG</td>\n",
       "    </tr>\n",
       "    <tr>\n",
       "      <th>4</th>\n",
       "      <td>2021-04-05</td>\n",
       "      <td>DKI1 (Bunderan HI)</td>\n",
       "      <td>52</td>\n",
       "      <td>69</td>\n",
       "      <td>22</td>\n",
       "      <td>15</td>\n",
       "      <td>18</td>\n",
       "      <td>27</td>\n",
       "      <td>69</td>\n",
       "      <td>PM25</td>\n",
       "      <td>SEDANG</td>\n",
       "    </tr>\n",
       "    <tr>\n",
       "      <th>...</th>\n",
       "      <td>...</td>\n",
       "      <td>...</td>\n",
       "      <td>...</td>\n",
       "      <td>...</td>\n",
       "      <td>...</td>\n",
       "      <td>...</td>\n",
       "      <td>...</td>\n",
       "      <td>...</td>\n",
       "      <td>...</td>\n",
       "      <td>...</td>\n",
       "      <td>...</td>\n",
       "    </tr>\n",
       "    <tr>\n",
       "      <th>750</th>\n",
       "      <td>2021-05-27</td>\n",
       "      <td>DKI5 (Kebon Jeruk) Jakarta Barat</td>\n",
       "      <td>34</td>\n",
       "      <td>61</td>\n",
       "      <td>32</td>\n",
       "      <td>5</td>\n",
       "      <td>20</td>\n",
       "      <td>11</td>\n",
       "      <td>61</td>\n",
       "      <td>PM25</td>\n",
       "      <td>SEDANG</td>\n",
       "    </tr>\n",
       "    <tr>\n",
       "      <th>751</th>\n",
       "      <td>2021-05-28</td>\n",
       "      <td>DKI5 (Kebon Jeruk) Jakarta Barat</td>\n",
       "      <td>49</td>\n",
       "      <td>77</td>\n",
       "      <td>37</td>\n",
       "      <td>8</td>\n",
       "      <td>20</td>\n",
       "      <td>19</td>\n",
       "      <td>77</td>\n",
       "      <td>PM25</td>\n",
       "      <td>SEDANG</td>\n",
       "    </tr>\n",
       "    <tr>\n",
       "      <th>752</th>\n",
       "      <td>2021-05-29</td>\n",
       "      <td>DKI5 (Kebon Jeruk) Jakarta Barat</td>\n",
       "      <td>54</td>\n",
       "      <td>88</td>\n",
       "      <td>37</td>\n",
       "      <td>11</td>\n",
       "      <td>19</td>\n",
       "      <td>29</td>\n",
       "      <td>88</td>\n",
       "      <td>PM25</td>\n",
       "      <td>SEDANG</td>\n",
       "    </tr>\n",
       "    <tr>\n",
       "      <th>753</th>\n",
       "      <td>2021-05-30</td>\n",
       "      <td>DKI5 (Kebon Jeruk) Jakarta Barat</td>\n",
       "      <td>46</td>\n",
       "      <td>66</td>\n",
       "      <td>24</td>\n",
       "      <td>15</td>\n",
       "      <td>18</td>\n",
       "      <td>29</td>\n",
       "      <td>66</td>\n",
       "      <td>PM25</td>\n",
       "      <td>SEDANG</td>\n",
       "    </tr>\n",
       "    <tr>\n",
       "      <th>754</th>\n",
       "      <td>2021-05-31</td>\n",
       "      <td>DKI5 (Kebon Jeruk) Jakarta Barat</td>\n",
       "      <td>52</td>\n",
       "      <td>82</td>\n",
       "      <td>21</td>\n",
       "      <td>11</td>\n",
       "      <td>27</td>\n",
       "      <td>18</td>\n",
       "      <td>82</td>\n",
       "      <td>PM25</td>\n",
       "      <td>SEDANG</td>\n",
       "    </tr>\n",
       "  </tbody>\n",
       "</table>\n",
       "<p>639 rows × 11 columns</p>\n",
       "</div>"
      ],
      "text/plain": [
       "        tanggal                           stasiun pm10 pm25 so2  co  o3 no2  \\\n",
       "0    2021-04-01                DKI1 (Bunderan HI)   26   42  22  11  13  19   \n",
       "1    2021-04-02                DKI1 (Bunderan HI)   41   54  27  11  17  19   \n",
       "2    2021-04-03                DKI1 (Bunderan HI)   25   42  20   8  18  22   \n",
       "3    2021-04-04                DKI1 (Bunderan HI)   57   78  21  23  14  33   \n",
       "4    2021-04-05                DKI1 (Bunderan HI)   52   69  22  15  18  27   \n",
       "..          ...                               ...  ...  ...  ..  ..  ..  ..   \n",
       "750  2021-05-27  DKI5 (Kebon Jeruk) Jakarta Barat   34   61  32   5  20  11   \n",
       "751  2021-05-28  DKI5 (Kebon Jeruk) Jakarta Barat   49   77  37   8  20  19   \n",
       "752  2021-05-29  DKI5 (Kebon Jeruk) Jakarta Barat   54   88  37  11  19  29   \n",
       "753  2021-05-30  DKI5 (Kebon Jeruk) Jakarta Barat   46   66  24  15  18  29   \n",
       "754  2021-05-31  DKI5 (Kebon Jeruk) Jakarta Barat   52   82  21  11  27  18   \n",
       "\n",
       "     max critical categori  \n",
       "0     42     PM25     BAIK  \n",
       "1     54     PM25   SEDANG  \n",
       "2     42     PM25     BAIK  \n",
       "3     78     PM25   SEDANG  \n",
       "4     69     PM25   SEDANG  \n",
       "..   ...      ...      ...  \n",
       "750   61     PM25   SEDANG  \n",
       "751   77     PM25   SEDANG  \n",
       "752   88     PM25   SEDANG  \n",
       "753   66     PM25   SEDANG  \n",
       "754   82     PM25   SEDANG  \n",
       "\n",
       "[639 rows x 11 columns]"
      ]
     },
     "execution_count": 18,
     "metadata": {},
     "output_type": "execute_result"
    }
   ],
   "source": [
    "df=df.drop(df[df[\"so2\"]==\"---\"].index)\n",
    "df"
   ]
  },
  {
   "cell_type": "code",
   "execution_count": 19,
   "metadata": {
    "colab": {
     "base_uri": "https://localhost:8080/",
     "height": 0
    },
    "id": "oN42IZjX-5tH",
    "outputId": "218328c8-f3a8-4c9a-86ae-a5a1aa3e1b78"
   },
   "outputs": [
    {
     "data": {
      "text/html": [
       "<div>\n",
       "<style scoped>\n",
       "    .dataframe tbody tr th:only-of-type {\n",
       "        vertical-align: middle;\n",
       "    }\n",
       "\n",
       "    .dataframe tbody tr th {\n",
       "        vertical-align: top;\n",
       "    }\n",
       "\n",
       "    .dataframe thead th {\n",
       "        text-align: right;\n",
       "    }\n",
       "</style>\n",
       "<table border=\"1\" class=\"dataframe\">\n",
       "  <thead>\n",
       "    <tr style=\"text-align: right;\">\n",
       "      <th></th>\n",
       "      <th>tanggal</th>\n",
       "      <th>stasiun</th>\n",
       "      <th>pm10</th>\n",
       "      <th>pm25</th>\n",
       "      <th>so2</th>\n",
       "      <th>co</th>\n",
       "      <th>o3</th>\n",
       "      <th>no2</th>\n",
       "      <th>max</th>\n",
       "      <th>critical</th>\n",
       "      <th>categori</th>\n",
       "    </tr>\n",
       "  </thead>\n",
       "  <tbody>\n",
       "    <tr>\n",
       "      <th>0</th>\n",
       "      <td>2021-04-01</td>\n",
       "      <td>DKI1 (Bunderan HI)</td>\n",
       "      <td>26</td>\n",
       "      <td>42</td>\n",
       "      <td>22</td>\n",
       "      <td>11</td>\n",
       "      <td>13</td>\n",
       "      <td>19</td>\n",
       "      <td>42</td>\n",
       "      <td>PM25</td>\n",
       "      <td>BAIK</td>\n",
       "    </tr>\n",
       "    <tr>\n",
       "      <th>1</th>\n",
       "      <td>2021-04-02</td>\n",
       "      <td>DKI1 (Bunderan HI)</td>\n",
       "      <td>41</td>\n",
       "      <td>54</td>\n",
       "      <td>27</td>\n",
       "      <td>11</td>\n",
       "      <td>17</td>\n",
       "      <td>19</td>\n",
       "      <td>54</td>\n",
       "      <td>PM25</td>\n",
       "      <td>SEDANG</td>\n",
       "    </tr>\n",
       "    <tr>\n",
       "      <th>2</th>\n",
       "      <td>2021-04-03</td>\n",
       "      <td>DKI1 (Bunderan HI)</td>\n",
       "      <td>25</td>\n",
       "      <td>42</td>\n",
       "      <td>20</td>\n",
       "      <td>8</td>\n",
       "      <td>18</td>\n",
       "      <td>22</td>\n",
       "      <td>42</td>\n",
       "      <td>PM25</td>\n",
       "      <td>BAIK</td>\n",
       "    </tr>\n",
       "    <tr>\n",
       "      <th>3</th>\n",
       "      <td>2021-04-04</td>\n",
       "      <td>DKI1 (Bunderan HI)</td>\n",
       "      <td>57</td>\n",
       "      <td>78</td>\n",
       "      <td>21</td>\n",
       "      <td>23</td>\n",
       "      <td>14</td>\n",
       "      <td>33</td>\n",
       "      <td>78</td>\n",
       "      <td>PM25</td>\n",
       "      <td>SEDANG</td>\n",
       "    </tr>\n",
       "    <tr>\n",
       "      <th>4</th>\n",
       "      <td>2021-04-05</td>\n",
       "      <td>DKI1 (Bunderan HI)</td>\n",
       "      <td>52</td>\n",
       "      <td>69</td>\n",
       "      <td>22</td>\n",
       "      <td>15</td>\n",
       "      <td>18</td>\n",
       "      <td>27</td>\n",
       "      <td>69</td>\n",
       "      <td>PM25</td>\n",
       "      <td>SEDANG</td>\n",
       "    </tr>\n",
       "    <tr>\n",
       "      <th>...</th>\n",
       "      <td>...</td>\n",
       "      <td>...</td>\n",
       "      <td>...</td>\n",
       "      <td>...</td>\n",
       "      <td>...</td>\n",
       "      <td>...</td>\n",
       "      <td>...</td>\n",
       "      <td>...</td>\n",
       "      <td>...</td>\n",
       "      <td>...</td>\n",
       "      <td>...</td>\n",
       "    </tr>\n",
       "    <tr>\n",
       "      <th>750</th>\n",
       "      <td>2021-05-27</td>\n",
       "      <td>DKI5 (Kebon Jeruk) Jakarta Barat</td>\n",
       "      <td>34</td>\n",
       "      <td>61</td>\n",
       "      <td>32</td>\n",
       "      <td>5</td>\n",
       "      <td>20</td>\n",
       "      <td>11</td>\n",
       "      <td>61</td>\n",
       "      <td>PM25</td>\n",
       "      <td>SEDANG</td>\n",
       "    </tr>\n",
       "    <tr>\n",
       "      <th>751</th>\n",
       "      <td>2021-05-28</td>\n",
       "      <td>DKI5 (Kebon Jeruk) Jakarta Barat</td>\n",
       "      <td>49</td>\n",
       "      <td>77</td>\n",
       "      <td>37</td>\n",
       "      <td>8</td>\n",
       "      <td>20</td>\n",
       "      <td>19</td>\n",
       "      <td>77</td>\n",
       "      <td>PM25</td>\n",
       "      <td>SEDANG</td>\n",
       "    </tr>\n",
       "    <tr>\n",
       "      <th>752</th>\n",
       "      <td>2021-05-29</td>\n",
       "      <td>DKI5 (Kebon Jeruk) Jakarta Barat</td>\n",
       "      <td>54</td>\n",
       "      <td>88</td>\n",
       "      <td>37</td>\n",
       "      <td>11</td>\n",
       "      <td>19</td>\n",
       "      <td>29</td>\n",
       "      <td>88</td>\n",
       "      <td>PM25</td>\n",
       "      <td>SEDANG</td>\n",
       "    </tr>\n",
       "    <tr>\n",
       "      <th>753</th>\n",
       "      <td>2021-05-30</td>\n",
       "      <td>DKI5 (Kebon Jeruk) Jakarta Barat</td>\n",
       "      <td>46</td>\n",
       "      <td>66</td>\n",
       "      <td>24</td>\n",
       "      <td>15</td>\n",
       "      <td>18</td>\n",
       "      <td>29</td>\n",
       "      <td>66</td>\n",
       "      <td>PM25</td>\n",
       "      <td>SEDANG</td>\n",
       "    </tr>\n",
       "    <tr>\n",
       "      <th>754</th>\n",
       "      <td>2021-05-31</td>\n",
       "      <td>DKI5 (Kebon Jeruk) Jakarta Barat</td>\n",
       "      <td>52</td>\n",
       "      <td>82</td>\n",
       "      <td>21</td>\n",
       "      <td>11</td>\n",
       "      <td>27</td>\n",
       "      <td>18</td>\n",
       "      <td>82</td>\n",
       "      <td>PM25</td>\n",
       "      <td>SEDANG</td>\n",
       "    </tr>\n",
       "  </tbody>\n",
       "</table>\n",
       "<p>636 rows × 11 columns</p>\n",
       "</div>"
      ],
      "text/plain": [
       "        tanggal                           stasiun pm10 pm25 so2  co  o3 no2  \\\n",
       "0    2021-04-01                DKI1 (Bunderan HI)   26   42  22  11  13  19   \n",
       "1    2021-04-02                DKI1 (Bunderan HI)   41   54  27  11  17  19   \n",
       "2    2021-04-03                DKI1 (Bunderan HI)   25   42  20   8  18  22   \n",
       "3    2021-04-04                DKI1 (Bunderan HI)   57   78  21  23  14  33   \n",
       "4    2021-04-05                DKI1 (Bunderan HI)   52   69  22  15  18  27   \n",
       "..          ...                               ...  ...  ...  ..  ..  ..  ..   \n",
       "750  2021-05-27  DKI5 (Kebon Jeruk) Jakarta Barat   34   61  32   5  20  11   \n",
       "751  2021-05-28  DKI5 (Kebon Jeruk) Jakarta Barat   49   77  37   8  20  19   \n",
       "752  2021-05-29  DKI5 (Kebon Jeruk) Jakarta Barat   54   88  37  11  19  29   \n",
       "753  2021-05-30  DKI5 (Kebon Jeruk) Jakarta Barat   46   66  24  15  18  29   \n",
       "754  2021-05-31  DKI5 (Kebon Jeruk) Jakarta Barat   52   82  21  11  27  18   \n",
       "\n",
       "     max critical categori  \n",
       "0     42     PM25     BAIK  \n",
       "1     54     PM25   SEDANG  \n",
       "2     42     PM25     BAIK  \n",
       "3     78     PM25   SEDANG  \n",
       "4     69     PM25   SEDANG  \n",
       "..   ...      ...      ...  \n",
       "750   61     PM25   SEDANG  \n",
       "751   77     PM25   SEDANG  \n",
       "752   88     PM25   SEDANG  \n",
       "753   66     PM25   SEDANG  \n",
       "754   82     PM25   SEDANG  \n",
       "\n",
       "[636 rows x 11 columns]"
      ]
     },
     "execution_count": 19,
     "metadata": {},
     "output_type": "execute_result"
    }
   ],
   "source": [
    "df=df.drop(df[df[\"pm25\"]==\"---\"].index)\n",
    "df"
   ]
  },
  {
   "cell_type": "code",
   "execution_count": 20,
   "metadata": {
    "colab": {
     "base_uri": "https://localhost:8080/"
    },
    "id": "A5aGogYj_JR4",
    "outputId": "86e1f802-2c6d-46d2-fb16-1740ad7da743"
   },
   "outputs": [
    {
     "data": {
      "text/plain": [
       "tanggal     object\n",
       "stasiun     object\n",
       "pm10        object\n",
       "pm25        object\n",
       "so2         object\n",
       "co          object\n",
       "o3          object\n",
       "no2         object\n",
       "max          int64\n",
       "critical    object\n",
       "categori    object\n",
       "dtype: object"
      ]
     },
     "execution_count": 20,
     "metadata": {},
     "output_type": "execute_result"
    }
   ],
   "source": [
    "df=df.drop(df[df[\"pm10\"]==\"---\"].index)\n",
    "df.dtypes"
   ]
  },
  {
   "cell_type": "code",
   "execution_count": 21,
   "metadata": {
    "colab": {
     "base_uri": "https://localhost:8080/"
    },
    "id": "h05twQsFBad3",
    "outputId": "cb9ebee4-1825-401b-f589-2b9bd404cc7d"
   },
   "outputs": [
    {
     "name": "stdout",
     "output_type": "stream",
     "text": [
      "<class 'pandas.core.frame.DataFrame'>\n",
      "Int64Index: 615 entries, 0 to 754\n",
      "Data columns (total 11 columns):\n",
      " #   Column    Non-Null Count  Dtype \n",
      "---  ------    --------------  ----- \n",
      " 0   tanggal   615 non-null    object\n",
      " 1   stasiun   615 non-null    object\n",
      " 2   pm10      615 non-null    object\n",
      " 3   pm25      615 non-null    object\n",
      " 4   so2       615 non-null    object\n",
      " 5   co        615 non-null    object\n",
      " 6   o3        615 non-null    object\n",
      " 7   no2       615 non-null    object\n",
      " 8   max       615 non-null    int64 \n",
      " 9   critical  615 non-null    object\n",
      " 10  categori  615 non-null    object\n",
      "dtypes: int64(1), object(10)\n",
      "memory usage: 57.7+ KB\n"
     ]
    }
   ],
   "source": [
    "df.info()"
   ]
  },
  {
   "cell_type": "code",
   "execution_count": 22,
   "metadata": {
    "colab": {
     "base_uri": "https://localhost:8080/"
    },
    "id": "R5r8yBu-BrMU",
    "outputId": "f0a2bf70-6c90-4bb3-f9c3-e95f66008bb5"
   },
   "outputs": [
    {
     "data": {
      "text/plain": [
       "tanggal     object\n",
       "stasiun     object\n",
       "pm10         int32\n",
       "pm25         int32\n",
       "so2          int32\n",
       "co           int32\n",
       "o3           int32\n",
       "no2          int32\n",
       "max          int32\n",
       "critical    object\n",
       "categori    object\n",
       "dtype: object"
      ]
     },
     "execution_count": 22,
     "metadata": {},
     "output_type": "execute_result"
    }
   ],
   "source": [
    "df = df.astype({\"tanggal\": object, \"stasiun\": object,\"pm10\":int,\"pm25\":int,\"so2\":int,\"co\":int,\"o3\":int,\"no2\":int,\"max\":int,\"critical\":object,\"categori\":object})\n",
    "df.dtypes"
   ]
  },
  {
   "cell_type": "markdown",
   "metadata": {
    "id": "cpTPhZz8QU66"
   },
   "source": [
    "##**Data Outliers**"
   ]
  },
  {
   "cell_type": "code",
   "execution_count": 23,
   "metadata": {
    "colab": {
     "base_uri": "https://localhost:8080/",
     "height": 0
    },
    "id": "7tS6Qv_ilxfx",
    "outputId": "03a67d8c-7497-4a65-e548-badfa3159e9b"
   },
   "outputs": [
    {
     "name": "stderr",
     "output_type": "stream",
     "text": [
      "e:\\information system\\python project\\microcredential2021\\lib\\site-packages\\seaborn\\_decorators.py:36: FutureWarning: Pass the following variable as a keyword arg: x. From version 0.12, the only valid positional argument will be `data`, and passing other arguments without an explicit keyword will result in an error or misinterpretation.\n",
      "  warnings.warn(\n",
      "e:\\information system\\python project\\microcredential2021\\lib\\site-packages\\seaborn\\_decorators.py:36: FutureWarning: Pass the following variable as a keyword arg: x. From version 0.12, the only valid positional argument will be `data`, and passing other arguments without an explicit keyword will result in an error or misinterpretation.\n",
      "  warnings.warn(\n",
      "e:\\information system\\python project\\microcredential2021\\lib\\site-packages\\seaborn\\_decorators.py:36: FutureWarning: Pass the following variable as a keyword arg: x. From version 0.12, the only valid positional argument will be `data`, and passing other arguments without an explicit keyword will result in an error or misinterpretation.\n",
      "  warnings.warn(\n",
      "e:\\information system\\python project\\microcredential2021\\lib\\site-packages\\seaborn\\_decorators.py:36: FutureWarning: Pass the following variable as a keyword arg: x. From version 0.12, the only valid positional argument will be `data`, and passing other arguments without an explicit keyword will result in an error or misinterpretation.\n",
      "  warnings.warn(\n",
      "e:\\information system\\python project\\microcredential2021\\lib\\site-packages\\seaborn\\_decorators.py:36: FutureWarning: Pass the following variable as a keyword arg: x. From version 0.12, the only valid positional argument will be `data`, and passing other arguments without an explicit keyword will result in an error or misinterpretation.\n",
      "  warnings.warn(\n",
      "e:\\information system\\python project\\microcredential2021\\lib\\site-packages\\seaborn\\_decorators.py:36: FutureWarning: Pass the following variable as a keyword arg: x. From version 0.12, the only valid positional argument will be `data`, and passing other arguments without an explicit keyword will result in an error or misinterpretation.\n",
      "  warnings.warn(\n",
      "e:\\information system\\python project\\microcredential2021\\lib\\site-packages\\seaborn\\_decorators.py:36: FutureWarning: Pass the following variable as a keyword arg: x. From version 0.12, the only valid positional argument will be `data`, and passing other arguments without an explicit keyword will result in an error or misinterpretation.\n",
      "  warnings.warn(\n"
     ]
    },
    {
     "data": {
      "text/plain": [
       "<AxesSubplot:xlabel='max'>"
      ]
     },
     "execution_count": 23,
     "metadata": {},
     "output_type": "execute_result"
    },
    {
     "data": {
      "image/png": "[encoded data removed]",
      "text/plain": [
       "<Figure size 720x360 with 1 Axes>"
      ]
     },
     "metadata": {
      "needs_background": "light"
     },
     "output_type": "display_data"
    },
    {
     "data": {
      "image/png": "[encoded data removed]",
      "text/plain": [
       "<Figure size 720x360 with 1 Axes>"
      ]
     },
     "metadata": {
      "needs_background": "light"
     },
     "output_type": "display_data"
    },
    {
     "data": {
      "image/png": "[encoded data removed]",
      "text/plain": [
       "<Figure size 720x360 with 1 Axes>"
      ]
     },
     "metadata": {
      "needs_background": "light"
     },
     "output_type": "display_data"
    },
    {
     "data": {
      "image/png": "[encoded data removed]",
      "text/plain": [
       "<Figure size 720x360 with 1 Axes>"
      ]
     },
     "metadata": {
      "needs_background": "light"
     },
     "output_type": "display_data"
    },
    {
     "data": {
      "image/png": "[encoded data removed]",
      "text/plain": [
       "<Figure size 720x360 with 1 Axes>"
      ]
     },
     "metadata": {
      "needs_background": "light"
     },
     "output_type": "display_data"
    },
    {
     "data": {
      "image/png": "[encoded data removed]",
      "text/plain": [
       "<Figure size 720x360 with 1 Axes>"
      ]
     },
     "metadata": {
      "needs_background": "light"
     },
     "output_type": "display_data"
    },
    {
     "data": {
      "image/png": "[encoded data removed]",
      "text/plain": [
       "<Figure size 720x360 with 1 Axes>"
      ]
     },
     "metadata": {
      "needs_background": "light"
     },
     "output_type": "display_data"
    }
   ],
   "source": [
    "plt.figure(figsize = (10, 5))\n",
    "sns.boxplot(df[\"pm10\"])\n",
    "plt.figure(figsize = (10, 5))\n",
    "sns.boxplot(df[\"pm25\"])\n",
    "plt.figure(figsize = (10, 5))\n",
    "sns.boxplot(df[\"so2\"])\n",
    "plt.figure(figsize = (10, 5))\n",
    "sns.boxplot(df[\"co\"])\n",
    "plt.figure(figsize = (10, 5))\n",
    "sns.boxplot(df[\"o3\"])\n",
    "plt.figure(figsize = (10, 5))\n",
    "sns.boxplot(df[\"no2\"])\n",
    "plt.figure(figsize = (10, 5))\n",
    "sns.boxplot(df[\"max\"])"
   ]
  },
  {
   "cell_type": "code",
   "execution_count": 24,
   "metadata": {
    "colab": {
     "base_uri": "https://localhost:8080/",
     "height": 0
    },
    "id": "0fcJFV9fMSmm",
    "outputId": "38cd3afa-f4b9-4f6c-91cb-b4e77e8b0f22"
   },
   "outputs": [
    {
     "data": {
      "text/html": [
       "<div>\n",
       "<style scoped>\n",
       "    .dataframe tbody tr th:only-of-type {\n",
       "        vertical-align: middle;\n",
       "    }\n",
       "\n",
       "    .dataframe tbody tr th {\n",
       "        vertical-align: top;\n",
       "    }\n",
       "\n",
       "    .dataframe thead th {\n",
       "        text-align: right;\n",
       "    }\n",
       "</style>\n",
       "<table border=\"1\" class=\"dataframe\">\n",
       "  <thead>\n",
       "    <tr style=\"text-align: right;\">\n",
       "      <th></th>\n",
       "      <th>pm10</th>\n",
       "      <th>pm25</th>\n",
       "      <th>so2</th>\n",
       "      <th>co</th>\n",
       "      <th>o3</th>\n",
       "      <th>no2</th>\n",
       "      <th>max</th>\n",
       "    </tr>\n",
       "  </thead>\n",
       "  <tbody>\n",
       "    <tr>\n",
       "      <th>pm10</th>\n",
       "      <td>1.000000</td>\n",
       "      <td>0.859112</td>\n",
       "      <td>0.322199</td>\n",
       "      <td>0.478298</td>\n",
       "      <td>0.270345</td>\n",
       "      <td>0.418303</td>\n",
       "      <td>0.859248</td>\n",
       "    </tr>\n",
       "    <tr>\n",
       "      <th>pm25</th>\n",
       "      <td>0.859112</td>\n",
       "      <td>1.000000</td>\n",
       "      <td>0.306821</td>\n",
       "      <td>0.454374</td>\n",
       "      <td>0.139406</td>\n",
       "      <td>0.346635</td>\n",
       "      <td>0.955491</td>\n",
       "    </tr>\n",
       "    <tr>\n",
       "      <th>so2</th>\n",
       "      <td>0.322199</td>\n",
       "      <td>0.306821</td>\n",
       "      <td>1.000000</td>\n",
       "      <td>-0.024770</td>\n",
       "      <td>0.196586</td>\n",
       "      <td>0.047326</td>\n",
       "      <td>0.262820</td>\n",
       "    </tr>\n",
       "    <tr>\n",
       "      <th>co</th>\n",
       "      <td>0.478298</td>\n",
       "      <td>0.454374</td>\n",
       "      <td>-0.024770</td>\n",
       "      <td>1.000000</td>\n",
       "      <td>0.093547</td>\n",
       "      <td>0.462672</td>\n",
       "      <td>0.454185</td>\n",
       "    </tr>\n",
       "    <tr>\n",
       "      <th>o3</th>\n",
       "      <td>0.270345</td>\n",
       "      <td>0.139406</td>\n",
       "      <td>0.196586</td>\n",
       "      <td>0.093547</td>\n",
       "      <td>1.000000</td>\n",
       "      <td>-0.171248</td>\n",
       "      <td>0.286354</td>\n",
       "    </tr>\n",
       "    <tr>\n",
       "      <th>no2</th>\n",
       "      <td>0.418303</td>\n",
       "      <td>0.346635</td>\n",
       "      <td>0.047326</td>\n",
       "      <td>0.462672</td>\n",
       "      <td>-0.171248</td>\n",
       "      <td>1.000000</td>\n",
       "      <td>0.321588</td>\n",
       "    </tr>\n",
       "    <tr>\n",
       "      <th>max</th>\n",
       "      <td>0.859248</td>\n",
       "      <td>0.955491</td>\n",
       "      <td>0.262820</td>\n",
       "      <td>0.454185</td>\n",
       "      <td>0.286354</td>\n",
       "      <td>0.321588</td>\n",
       "      <td>1.000000</td>\n",
       "    </tr>\n",
       "  </tbody>\n",
       "</table>\n",
       "</div>"
      ],
      "text/plain": [
       "          pm10      pm25       so2        co        o3       no2       max\n",
       "pm10  1.000000  0.859112  0.322199  0.478298  0.270345  0.418303  0.859248\n",
       "pm25  0.859112  1.000000  0.306821  0.454374  0.139406  0.346635  0.955491\n",
       "so2   0.322199  0.306821  1.000000 -0.024770  0.196586  0.047326  0.262820\n",
       "co    0.478298  0.454374 -0.024770  1.000000  0.093547  0.462672  0.454185\n",
       "o3    0.270345  0.139406  0.196586  0.093547  1.000000 -0.171248  0.286354\n",
       "no2   0.418303  0.346635  0.047326  0.462672 -0.171248  1.000000  0.321588\n",
       "max   0.859248  0.955491  0.262820  0.454185  0.286354  0.321588  1.000000"
      ]
     },
     "execution_count": 24,
     "metadata": {},
     "output_type": "execute_result"
    }
   ],
   "source": [
    "df.corr()"
   ]
  },
  {
   "cell_type": "code",
   "execution_count": 25,
   "metadata": {
    "colab": {
     "base_uri": "https://localhost:8080/"
    },
    "id": "SbT4o5OrZ54o",
    "outputId": "32b13e06-ad62-4356-e50e-9fb01fac8f9f"
   },
   "outputs": [
    {
     "data": {
      "text/plain": [
       "0      42\n",
       "1      54\n",
       "2      42\n",
       "3      78\n",
       "4      69\n",
       "       ..\n",
       "750    61\n",
       "751    77\n",
       "752    88\n",
       "753    66\n",
       "754    82\n",
       "Name: pm25, Length: 615, dtype: int32"
      ]
     },
     "execution_count": 25,
     "metadata": {},
     "output_type": "execute_result"
    }
   ],
   "source": [
    "df[\"pm25\"]"
   ]
  },
  {
   "cell_type": "code",
   "execution_count": 26,
   "metadata": {
    "id": "u3KmSmeoa26r"
   },
   "outputs": [],
   "source": [
    "def detect_outliers(df,x):\n",
    "    Q1 = df[x].quantile(q=0.25)\n",
    "    Q3 = df[x].quantile(q=0.75)\n",
    "    IQR = Q3-Q1\n",
    "    return df[(df[x] < Q1-1.5*IQR) | (df[x] > Q3+1.5*IQR)]"
   ]
  },
  {
   "cell_type": "code",
   "execution_count": 27,
   "metadata": {
    "colab": {
     "base_uri": "https://localhost:8080/"
    },
    "id": "wPiYZA6ydCKm",
    "outputId": "5cfe2ea0-386e-4d1d-865a-5312622dd5c6"
   },
   "outputs": [
    {
     "data": {
      "text/plain": [
       "Int64Index([116], dtype='int64')"
      ]
     },
     "execution_count": 27,
     "metadata": {},
     "output_type": "execute_result"
    }
   ],
   "source": [
    "detect_outliers(df, \"pm25\").index"
   ]
  },
  {
   "cell_type": "code",
   "execution_count": 28,
   "metadata": {
    "id": "nTGWWYhAhm5J"
   },
   "outputs": [],
   "source": [
    "df.loc[116,'pm25']\n",
    "df['pm25'].replace(df.loc[116,'pm25'],df['pm25'].mean(),inplace=True)"
   ]
  },
  {
   "cell_type": "code",
   "execution_count": 29,
   "metadata": {
    "colab": {
     "base_uri": "https://localhost:8080/"
    },
    "id": "sQQptC1R-pVm",
    "outputId": "cb55bd05-183f-4dc8-b915-31c8ac41ddd3"
   },
   "outputs": [
    {
     "data": {
      "text/plain": [
       "71.2959349593496"
      ]
     },
     "execution_count": 29,
     "metadata": {},
     "output_type": "execute_result"
    }
   ],
   "source": [
    "df.loc[116,'pm25']"
   ]
  },
  {
   "cell_type": "code",
   "execution_count": 30,
   "metadata": {
    "colab": {
     "base_uri": "https://localhost:8080/"
    },
    "id": "7enPHmUip3iR",
    "outputId": "3f0c610e-d3cc-414e-d56b-a2b35f62859c"
   },
   "outputs": [
    {
     "data": {
      "text/plain": [
       "Int64Index([654], dtype='int64')"
      ]
     },
     "execution_count": 30,
     "metadata": {},
     "output_type": "execute_result"
    }
   ],
   "source": [
    "detect_outliers(df, \"so2\").index"
   ]
  },
  {
   "cell_type": "code",
   "execution_count": 31,
   "metadata": {
    "colab": {
     "base_uri": "https://localhost:8080/"
    },
    "id": "031-G7sMwu-c",
    "outputId": "e85e5954-4882-4af3-c067-71f521933907"
   },
   "outputs": [
    {
     "data": {
      "text/plain": [
       "0      22.0\n",
       "1      27.0\n",
       "2      20.0\n",
       "3      21.0\n",
       "4      22.0\n",
       "       ... \n",
       "750    32.0\n",
       "751    37.0\n",
       "752    37.0\n",
       "753    24.0\n",
       "754    21.0\n",
       "Name: so2, Length: 615, dtype: float64"
      ]
     },
     "execution_count": 31,
     "metadata": {},
     "output_type": "execute_result"
    }
   ],
   "source": [
    "df.loc[654,'so2']\n",
    "df['so2'].replace(df.loc[654,'so2'],df['so2'].mean())"
   ]
  },
  {
   "cell_type": "code",
   "execution_count": 32,
   "metadata": {
    "colab": {
     "base_uri": "https://localhost:8080/"
    },
    "id": "3IO78O_Zq5aZ",
    "outputId": "8b886d95-cb66-43d0-cbf5-f98bfaecf419"
   },
   "outputs": [
    {
     "data": {
      "text/plain": [
       "Int64Index([ 93, 104, 123, 150, 194, 262, 278, 298, 312, 314, 329, 343, 345,\n",
       "            357, 360, 373, 374, 375, 574, 606, 715, 716],\n",
       "           dtype='int64')"
      ]
     },
     "execution_count": 32,
     "metadata": {},
     "output_type": "execute_result"
    }
   ],
   "source": [
    "detect_outliers(df, \"co\").index"
   ]
  },
  {
   "cell_type": "code",
   "execution_count": 33,
   "metadata": {
    "colab": {
     "base_uri": "https://localhost:8080/"
    },
    "id": "flJ4afKHw2L9",
    "outputId": "f5415715-8444-4820-d574-5f6f2c7bc0cc"
   },
   "outputs": [
    {
     "data": {
      "text/plain": [
       "0      11.0\n",
       "1      11.0\n",
       "2       8.0\n",
       "3      23.0\n",
       "4      15.0\n",
       "       ... \n",
       "750     5.0\n",
       "751     8.0\n",
       "752    11.0\n",
       "753    15.0\n",
       "754    11.0\n",
       "Name: co, Length: 615, dtype: float64"
      ]
     },
     "execution_count": 33,
     "metadata": {},
     "output_type": "execute_result"
    }
   ],
   "source": [
    "df['co'].replace(df.loc[93,'co'],df['co'].mean())\n",
    "df['co'].replace(df.loc[104,'co'],df['co'].mean())\n",
    "df['co'].replace(df.loc[123,'co'],df['co'].mean())\n",
    "df['co'].replace(df.loc[150,'co'],df['co'].mean())\n",
    "df['co'].replace(df.loc[194,'co'],df['co'].mean())\n",
    "df['co'].replace(df.loc[262,'co'],df['co'].mean())\n",
    "df['co'].replace(df.loc[278,'co'],df['co'].mean())\n",
    "df['co'].replace(df.loc[298,'co'],df['co'].mean())\n",
    "df['co'].replace(df.loc[312,'co'],df['co'].mean())\n",
    "df['co'].replace(df.loc[314,'co'],df['co'].mean())\n",
    "df['co'].replace(df.loc[329,'co'],df['co'].mean())\n",
    "df['co'].replace(df.loc[343,'co'],df['co'].mean())\n",
    "df['co'].replace(df.loc[345,'co'],df['co'].mean())\n",
    "df['co'].replace(df.loc[357,'co'],df['co'].mean())\n",
    "df['co'].replace(df.loc[360,'co'],df['co'].mean())\n",
    "df['co'].replace(df.loc[373,'co'],df['co'].mean())\n",
    "df['co'].replace(df.loc[374,'co'],df['co'].mean())\n",
    "df['co'].replace(df.loc[375,'co'],df['co'].mean())\n",
    "df['co'].replace(df.loc[574,'co'],df['co'].mean())\n",
    "df['co'].replace(df.loc[606,'co'],df['co'].mean())\n",
    "df['co'].replace(df.loc[715,'co'],df['co'].mean())\n",
    "df['co'].replace(df.loc[716,'co'],df['co'].mean())"
   ]
  },
  {
   "cell_type": "code",
   "execution_count": 34,
   "metadata": {
    "colab": {
     "base_uri": "https://localhost:8080/"
    },
    "id": "vfAmkVCkstzh",
    "outputId": "baa7966e-29e0-450a-a8d7-50126797e399"
   },
   "outputs": [
    {
     "data": {
      "text/plain": [
       "Int64Index([53, 329, 332, 337, 338, 340, 343, 344, 345, 346, 493, 503, 654,\n",
       "            661, 668, 669],\n",
       "           dtype='int64')"
      ]
     },
     "execution_count": 34,
     "metadata": {},
     "output_type": "execute_result"
    }
   ],
   "source": [
    "detect_outliers(df, \"o3\").index"
   ]
  },
  {
   "cell_type": "code",
   "execution_count": 35,
   "metadata": {
    "colab": {
     "base_uri": "https://localhost:8080/"
    },
    "id": "s03SA39a0bij",
    "outputId": "ed1a1d6d-27a7-41de-de92-5a12e0ab86e8"
   },
   "outputs": [
    {
     "data": {
      "text/plain": [
       "0      13.0\n",
       "1      17.0\n",
       "2      18.0\n",
       "3      14.0\n",
       "4      18.0\n",
       "       ... \n",
       "750    20.0\n",
       "751    20.0\n",
       "752    19.0\n",
       "753    18.0\n",
       "754    27.0\n",
       "Name: o3, Length: 615, dtype: float64"
      ]
     },
     "execution_count": 35,
     "metadata": {},
     "output_type": "execute_result"
    }
   ],
   "source": [
    "df['o3'].replace(df.loc[53,'o3'],df['o3'].mean())\n",
    "df['o3'].replace(df.loc[329,'o3'],df['o3'].mean())\n",
    "df['o3'].replace(df.loc[337,'o3'],df['o3'].mean())\n",
    "df['o3'].replace(df.loc[338,'o3'],df['o3'].mean())\n",
    "df['o3'].replace(df.loc[340,'o3'],df['o3'].mean())\n",
    "df['o3'].replace(df.loc[343,'o3'],df['o3'].mean())\n",
    "df['o3'].replace(df.loc[344,'o3'],df['o3'].mean())\n",
    "df['o3'].replace(df.loc[345,'o3'],df['o3'].mean())\n",
    "df['o3'].replace(df.loc[346,'o3'],df['o3'].mean())\n",
    "df['o3'].replace(df.loc[493,'o3'],df['o3'].mean())\n",
    "df['o3'].replace(df.loc[503,'o3'],df['o3'].mean())\n",
    "df['o3'].replace(df.loc[654,'o3'],df['o3'].mean())\n",
    "df['o3'].replace(df.loc[661,'o3'],df['o3'].mean())\n",
    "df['o3'].replace(df.loc[668,'o3'],df['o3'].mean())\n",
    "df['o3'].replace(df.loc[669,'o3'],df['o3'].mean())"
   ]
  },
  {
   "cell_type": "code",
   "execution_count": 36,
   "metadata": {
    "colab": {
     "base_uri": "https://localhost:8080/"
    },
    "id": "DtbQGUOWsyIP",
    "outputId": "8df5273a-cb50-473c-9899-a1a41b6b911d"
   },
   "outputs": [
    {
     "data": {
      "text/plain": [
       "Int64Index([ 12,  14,  15,  16,  21,  22,  23,  28,  29, 134, 135, 273, 283,\n",
       "            461, 462, 492, 574, 578, 604, 605, 606, 623, 746],\n",
       "           dtype='int64')"
      ]
     },
     "execution_count": 36,
     "metadata": {},
     "output_type": "execute_result"
    }
   ],
   "source": [
    "detect_outliers(df, \"no2\").index"
   ]
  },
  {
   "cell_type": "code",
   "execution_count": 37,
   "metadata": {
    "colab": {
     "base_uri": "https://localhost:8080/"
    },
    "id": "ph0w6c-l02US",
    "outputId": "20d907f6-eb8f-44ae-a9f3-4b525f3f0cd1"
   },
   "outputs": [
    {
     "data": {
      "text/plain": [
       "0      19.0\n",
       "1      19.0\n",
       "2      22.0\n",
       "3      33.0\n",
       "4      27.0\n",
       "       ... \n",
       "750    11.0\n",
       "751    19.0\n",
       "752    29.0\n",
       "753    29.0\n",
       "754    18.0\n",
       "Name: no2, Length: 615, dtype: float64"
      ]
     },
     "execution_count": 37,
     "metadata": {},
     "output_type": "execute_result"
    }
   ],
   "source": [
    "df['no2'].replace(df.loc[12,'no2'],df['no2'].mean())\n",
    "df['no2'].replace(df.loc[14,'no2'],df['no2'].mean())\n",
    "df['no2'].replace(df.loc[15,'no2'],df['no2'].mean())\n",
    "df['no2'].replace(df.loc[16,'no2'],df['no2'].mean())\n",
    "df['no2'].replace(df.loc[21,'no2'],df['no2'].mean())\n",
    "df['no2'].replace(df.loc[22,'no2'],df['no2'].mean())\n",
    "df['no2'].replace(df.loc[23,'no2'],df['no2'].mean())\n",
    "df['no2'].replace(df.loc[28,'no2'],df['no2'].mean())\n",
    "df['no2'].replace(df.loc[29,'no2'],df['no2'].mean())\n",
    "df['no2'].replace(df.loc[134,'no2'],df['no2'].mean())\n",
    "df['no2'].replace(df.loc[135,'no2'],df['no2'].mean())\n",
    "df['no2'].replace(df.loc[273,'no2'],df['no2'].mean())\n",
    "df['no2'].replace(df.loc[283,'no2'],df['no2'].mean())\n",
    "df['no2'].replace(df.loc[461,'no2'],df['no2'].mean())\n",
    "df['no2'].replace(df.loc[462,'no2'],df['no2'].mean())\n",
    "df['no2'].replace(df.loc[492,'no2'],df['no2'].mean())\n",
    "df['no2'].replace(df.loc[574,'no2'],df['no2'].mean())\n",
    "df['no2'].replace(df.loc[578,'no2'],df['no2'].mean())\n",
    "df['no2'].replace(df.loc[604,'no2'],df['no2'].mean())\n",
    "df['no2'].replace(df.loc[605,'no2'],df['no2'].mean())\n",
    "df['no2'].replace(df.loc[606,'no2'],df['no2'].mean())\n",
    "df['no2'].replace(df.loc[623,'no2'],df['no2'].mean())\n",
    "df['no2'].replace(df.loc[746,'no2'],df['no2'].mean())"
   ]
  },
  {
   "cell_type": "code",
   "execution_count": 38,
   "metadata": {
    "colab": {
     "base_uri": "https://localhost:8080/"
    },
    "id": "kZ5J8iYps0Lj",
    "outputId": "a9791ee8-4b6e-4eb2-efb7-ee9d30e01bfd"
   },
   "outputs": [
    {
     "data": {
      "text/plain": [
       "Int64Index([116, 345, 668], dtype='int64')"
      ]
     },
     "execution_count": 38,
     "metadata": {},
     "output_type": "execute_result"
    }
   ],
   "source": [
    "detect_outliers(df, \"max\").index"
   ]
  },
  {
   "cell_type": "code",
   "execution_count": 39,
   "metadata": {
    "colab": {
     "base_uri": "https://localhost:8080/"
    },
    "id": "Kmr7pPuUs1Sx",
    "outputId": "5b7182cd-fdcf-45ef-f9f9-595ffda724dd"
   },
   "outputs": [
    {
     "data": {
      "text/plain": [
       "0      42.0\n",
       "1      54.0\n",
       "2      42.0\n",
       "3      78.0\n",
       "4      69.0\n",
       "       ... \n",
       "750    61.0\n",
       "751    77.0\n",
       "752    88.0\n",
       "753    66.0\n",
       "754    82.0\n",
       "Name: max, Length: 615, dtype: float64"
      ]
     },
     "execution_count": 39,
     "metadata": {},
     "output_type": "execute_result"
    }
   ],
   "source": [
    "df['max'].replace(df.loc[116,'max'],df['max'].mean())\n",
    "df['max'].replace(df.loc[345,'max'],df['max'].mean())\n",
    "df['max'].replace(df.loc[668,'max'],df['max'].mean())"
   ]
  },
  {
   "cell_type": "markdown",
   "metadata": {
    "id": "TU7t2q2r_iBQ"
   },
   "source": [
    "##**Data Unrelated**"
   ]
  },
  {
   "cell_type": "code",
   "execution_count": 40,
   "metadata": {
    "colab": {
     "base_uri": "https://localhost:8080/",
     "height": 0
    },
    "id": "7z87Zgat_-KH",
    "outputId": "c19fda8b-0a19-4317-ba32-e98593916d90"
   },
   "outputs": [
    {
     "data": {
      "text/html": [
       "<div>\n",
       "<style scoped>\n",
       "    .dataframe tbody tr th:only-of-type {\n",
       "        vertical-align: middle;\n",
       "    }\n",
       "\n",
       "    .dataframe tbody tr th {\n",
       "        vertical-align: top;\n",
       "    }\n",
       "\n",
       "    .dataframe thead th {\n",
       "        text-align: right;\n",
       "    }\n",
       "</style>\n",
       "<table border=\"1\" class=\"dataframe\">\n",
       "  <thead>\n",
       "    <tr style=\"text-align: right;\">\n",
       "      <th></th>\n",
       "      <th>tanggal</th>\n",
       "      <th>stasiun</th>\n",
       "      <th>pm10</th>\n",
       "      <th>pm25</th>\n",
       "      <th>so2</th>\n",
       "      <th>co</th>\n",
       "      <th>o3</th>\n",
       "      <th>no2</th>\n",
       "      <th>max</th>\n",
       "      <th>critical</th>\n",
       "      <th>categori</th>\n",
       "    </tr>\n",
       "  </thead>\n",
       "  <tbody>\n",
       "    <tr>\n",
       "      <th>0</th>\n",
       "      <td>2021-04-01</td>\n",
       "      <td>DKI1 (Bunderan HI)</td>\n",
       "      <td>26</td>\n",
       "      <td>42.0</td>\n",
       "      <td>22</td>\n",
       "      <td>11</td>\n",
       "      <td>13</td>\n",
       "      <td>19</td>\n",
       "      <td>42</td>\n",
       "      <td>PM25</td>\n",
       "      <td>BAIK</td>\n",
       "    </tr>\n",
       "    <tr>\n",
       "      <th>1</th>\n",
       "      <td>2021-04-02</td>\n",
       "      <td>DKI1 (Bunderan HI)</td>\n",
       "      <td>41</td>\n",
       "      <td>54.0</td>\n",
       "      <td>27</td>\n",
       "      <td>11</td>\n",
       "      <td>17</td>\n",
       "      <td>19</td>\n",
       "      <td>54</td>\n",
       "      <td>PM25</td>\n",
       "      <td>SEDANG</td>\n",
       "    </tr>\n",
       "    <tr>\n",
       "      <th>2</th>\n",
       "      <td>2021-04-03</td>\n",
       "      <td>DKI1 (Bunderan HI)</td>\n",
       "      <td>25</td>\n",
       "      <td>42.0</td>\n",
       "      <td>20</td>\n",
       "      <td>8</td>\n",
       "      <td>18</td>\n",
       "      <td>22</td>\n",
       "      <td>42</td>\n",
       "      <td>PM25</td>\n",
       "      <td>BAIK</td>\n",
       "    </tr>\n",
       "    <tr>\n",
       "      <th>3</th>\n",
       "      <td>2021-04-04</td>\n",
       "      <td>DKI1 (Bunderan HI)</td>\n",
       "      <td>57</td>\n",
       "      <td>78.0</td>\n",
       "      <td>21</td>\n",
       "      <td>23</td>\n",
       "      <td>14</td>\n",
       "      <td>33</td>\n",
       "      <td>78</td>\n",
       "      <td>PM25</td>\n",
       "      <td>SEDANG</td>\n",
       "    </tr>\n",
       "    <tr>\n",
       "      <th>4</th>\n",
       "      <td>2021-04-05</td>\n",
       "      <td>DKI1 (Bunderan HI)</td>\n",
       "      <td>52</td>\n",
       "      <td>69.0</td>\n",
       "      <td>22</td>\n",
       "      <td>15</td>\n",
       "      <td>18</td>\n",
       "      <td>27</td>\n",
       "      <td>69</td>\n",
       "      <td>PM25</td>\n",
       "      <td>SEDANG</td>\n",
       "    </tr>\n",
       "    <tr>\n",
       "      <th>...</th>\n",
       "      <td>...</td>\n",
       "      <td>...</td>\n",
       "      <td>...</td>\n",
       "      <td>...</td>\n",
       "      <td>...</td>\n",
       "      <td>...</td>\n",
       "      <td>...</td>\n",
       "      <td>...</td>\n",
       "      <td>...</td>\n",
       "      <td>...</td>\n",
       "      <td>...</td>\n",
       "    </tr>\n",
       "    <tr>\n",
       "      <th>750</th>\n",
       "      <td>2021-05-27</td>\n",
       "      <td>DKI5 (Kebon Jeruk) Jakarta Barat</td>\n",
       "      <td>34</td>\n",
       "      <td>61.0</td>\n",
       "      <td>32</td>\n",
       "      <td>5</td>\n",
       "      <td>20</td>\n",
       "      <td>11</td>\n",
       "      <td>61</td>\n",
       "      <td>PM25</td>\n",
       "      <td>SEDANG</td>\n",
       "    </tr>\n",
       "    <tr>\n",
       "      <th>751</th>\n",
       "      <td>2021-05-28</td>\n",
       "      <td>DKI5 (Kebon Jeruk) Jakarta Barat</td>\n",
       "      <td>49</td>\n",
       "      <td>77.0</td>\n",
       "      <td>37</td>\n",
       "      <td>8</td>\n",
       "      <td>20</td>\n",
       "      <td>19</td>\n",
       "      <td>77</td>\n",
       "      <td>PM25</td>\n",
       "      <td>SEDANG</td>\n",
       "    </tr>\n",
       "    <tr>\n",
       "      <th>752</th>\n",
       "      <td>2021-05-29</td>\n",
       "      <td>DKI5 (Kebon Jeruk) Jakarta Barat</td>\n",
       "      <td>54</td>\n",
       "      <td>88.0</td>\n",
       "      <td>37</td>\n",
       "      <td>11</td>\n",
       "      <td>19</td>\n",
       "      <td>29</td>\n",
       "      <td>88</td>\n",
       "      <td>PM25</td>\n",
       "      <td>SEDANG</td>\n",
       "    </tr>\n",
       "    <tr>\n",
       "      <th>753</th>\n",
       "      <td>2021-05-30</td>\n",
       "      <td>DKI5 (Kebon Jeruk) Jakarta Barat</td>\n",
       "      <td>46</td>\n",
       "      <td>66.0</td>\n",
       "      <td>24</td>\n",
       "      <td>15</td>\n",
       "      <td>18</td>\n",
       "      <td>29</td>\n",
       "      <td>66</td>\n",
       "      <td>PM25</td>\n",
       "      <td>SEDANG</td>\n",
       "    </tr>\n",
       "    <tr>\n",
       "      <th>754</th>\n",
       "      <td>2021-05-31</td>\n",
       "      <td>DKI5 (Kebon Jeruk) Jakarta Barat</td>\n",
       "      <td>52</td>\n",
       "      <td>82.0</td>\n",
       "      <td>21</td>\n",
       "      <td>11</td>\n",
       "      <td>27</td>\n",
       "      <td>18</td>\n",
       "      <td>82</td>\n",
       "      <td>PM25</td>\n",
       "      <td>SEDANG</td>\n",
       "    </tr>\n",
       "  </tbody>\n",
       "</table>\n",
       "<p>615 rows × 11 columns</p>\n",
       "</div>"
      ],
      "text/plain": [
       "        tanggal                           stasiun  pm10  pm25  so2  co  o3  \\\n",
       "0    2021-04-01                DKI1 (Bunderan HI)    26  42.0   22  11  13   \n",
       "1    2021-04-02                DKI1 (Bunderan HI)    41  54.0   27  11  17   \n",
       "2    2021-04-03                DKI1 (Bunderan HI)    25  42.0   20   8  18   \n",
       "3    2021-04-04                DKI1 (Bunderan HI)    57  78.0   21  23  14   \n",
       "4    2021-04-05                DKI1 (Bunderan HI)    52  69.0   22  15  18   \n",
       "..          ...                               ...   ...   ...  ...  ..  ..   \n",
       "750  2021-05-27  DKI5 (Kebon Jeruk) Jakarta Barat    34  61.0   32   5  20   \n",
       "751  2021-05-28  DKI5 (Kebon Jeruk) Jakarta Barat    49  77.0   37   8  20   \n",
       "752  2021-05-29  DKI5 (Kebon Jeruk) Jakarta Barat    54  88.0   37  11  19   \n",
       "753  2021-05-30  DKI5 (Kebon Jeruk) Jakarta Barat    46  66.0   24  15  18   \n",
       "754  2021-05-31  DKI5 (Kebon Jeruk) Jakarta Barat    52  82.0   21  11  27   \n",
       "\n",
       "     no2  max critical categori  \n",
       "0     19   42     PM25     BAIK  \n",
       "1     19   54     PM25   SEDANG  \n",
       "2     22   42     PM25     BAIK  \n",
       "3     33   78     PM25   SEDANG  \n",
       "4     27   69     PM25   SEDANG  \n",
       "..   ...  ...      ...      ...  \n",
       "750   11   61     PM25   SEDANG  \n",
       "751   19   77     PM25   SEDANG  \n",
       "752   29   88     PM25   SEDANG  \n",
       "753   29   66     PM25   SEDANG  \n",
       "754   18   82     PM25   SEDANG  \n",
       "\n",
       "[615 rows x 11 columns]"
      ]
     },
     "execution_count": 40,
     "metadata": {},
     "output_type": "execute_result"
    }
   ],
   "source": [
    "df"
   ]
  },
  {
   "cell_type": "code",
   "execution_count": 41,
   "metadata": {
    "colab": {
     "base_uri": "https://localhost:8080/"
    },
    "id": "2feAJDN7AAjT",
    "outputId": "2c1e35f7-4844-46e5-a04d-adb5c517c5e0"
   },
   "outputs": [
    {
     "name": "stdout",
     "output_type": "stream",
     "text": [
      "<class 'pandas.core.frame.DataFrame'>\n",
      "Int64Index: 615 entries, 0 to 754\n",
      "Data columns (total 11 columns):\n",
      " #   Column    Non-Null Count  Dtype  \n",
      "---  ------    --------------  -----  \n",
      " 0   tanggal   615 non-null    object \n",
      " 1   stasiun   615 non-null    object \n",
      " 2   pm10      615 non-null    int32  \n",
      " 3   pm25      615 non-null    float64\n",
      " 4   so2       615 non-null    int32  \n",
      " 5   co        615 non-null    int32  \n",
      " 6   o3        615 non-null    int32  \n",
      " 7   no2       615 non-null    int32  \n",
      " 8   max       615 non-null    int32  \n",
      " 9   critical  615 non-null    object \n",
      " 10  categori  615 non-null    object \n",
      "dtypes: float64(1), int32(6), object(4)\n",
      "memory usage: 59.4+ KB\n"
     ]
    }
   ],
   "source": [
    "df.info()"
   ]
  },
  {
   "cell_type": "markdown",
   "metadata": {
    "id": "WmYvntgeAF2L"
   },
   "source": [
    "**Keterangan:**\n",
    "Data `tanggal` dan `stasiun` tidak mempengaruhi kategori pencemaran udara, sehingga data tersebut dapat diabaikan dalam data preparation."
   ]
  },
  {
   "cell_type": "code",
   "execution_count": 42,
   "metadata": {
    "id": "Fw_TzhlKAjW8"
   },
   "outputs": [],
   "source": [
    "#hapus column tanggal\n",
    "df.drop(['tanggal'], axis=1, inplace=True)"
   ]
  },
  {
   "cell_type": "code",
   "execution_count": 43,
   "metadata": {
    "id": "U124yErZAt6b"
   },
   "outputs": [],
   "source": [
    "#hapus column tanggal\n",
    "df.drop(['stasiun'], axis=1, inplace=True)"
   ]
  },
  {
   "cell_type": "markdown",
   "metadata": {
    "id": "5-TPOHl4A4KD"
   },
   "source": [
    "##**Categorical Encoding**"
   ]
  },
  {
   "cell_type": "code",
   "execution_count": 44,
   "metadata": {
    "colab": {
     "base_uri": "https://localhost:8080/"
    },
    "id": "VdqC79DiA_NQ",
    "outputId": "2f284597-4246-4d63-e7dd-350f08b5452b"
   },
   "outputs": [
    {
     "name": "stdout",
     "output_type": "stream",
     "text": [
      "<class 'pandas.core.frame.DataFrame'>\n",
      "Int64Index: 615 entries, 0 to 754\n",
      "Data columns (total 9 columns):\n",
      " #   Column    Non-Null Count  Dtype  \n",
      "---  ------    --------------  -----  \n",
      " 0   pm10      615 non-null    int32  \n",
      " 1   pm25      615 non-null    float64\n",
      " 2   so2       615 non-null    int32  \n",
      " 3   co        615 non-null    int32  \n",
      " 4   o3        615 non-null    int32  \n",
      " 5   no2       615 non-null    int32  \n",
      " 6   max       615 non-null    int32  \n",
      " 7   critical  615 non-null    object \n",
      " 8   categori  615 non-null    object \n",
      "dtypes: float64(1), int32(6), object(2)\n",
      "memory usage: 49.8+ KB\n"
     ]
    }
   ],
   "source": [
    "df.info()"
   ]
  },
  {
   "cell_type": "markdown",
   "metadata": {
    "id": "p2c8ibYMBIJT"
   },
   "source": [
    "**Keterangan:** Data kategorik (non-numerik) harus diubah dulu ke data numerik dengan encoding agar bisa dilakukan algortima matematika untuk klasifikasi."
   ]
  },
  {
   "cell_type": "code",
   "execution_count": 45,
   "metadata": {
    "id": "8RtTEwocEBXz"
   },
   "outputs": [],
   "source": [
    "#one hot encoder\n",
    "from sklearn.compose import ColumnTransformer\n",
    "from sklearn.preprocessing import OneHotEncoder\n",
    "\n",
    "one_hot_encoder = ColumnTransformer(transformers=[('encoder', OneHotEncoder(),[0])], remainder='passthrough')"
   ]
  },
  {
   "cell_type": "code",
   "execution_count": 46,
   "metadata": {
    "colab": {
     "base_uri": "https://localhost:8080/"
    },
    "id": "BT34wiLCEKpK",
    "outputId": "11ee6d5e-64dd-43ed-f223-88bbe0fe3776"
   },
   "outputs": [
    {
     "data": {
      "text/plain": [
       "critical\n",
       "O3       36\n",
       "PM10      9\n",
       "PM25    568\n",
       "SO2       2\n",
       "dtype: int64"
      ]
     },
     "execution_count": 46,
     "metadata": {},
     "output_type": "execute_result"
    }
   ],
   "source": [
    "df.groupby('critical').size()"
   ]
  },
  {
   "cell_type": "code",
   "execution_count": 47,
   "metadata": {
    "id": "p6j_iZzhERy1"
   },
   "outputs": [],
   "source": [
    "df = pd.get_dummies(df, columns = [\"critical\"])"
   ]
  },
  {
   "cell_type": "code",
   "execution_count": 48,
   "metadata": {
    "colab": {
     "base_uri": "https://localhost:8080/",
     "height": 0
    },
    "id": "4pwHMmbLEvkI",
    "outputId": "7a8f1c39-ddb2-4990-d161-1632229ce841"
   },
   "outputs": [
    {
     "data": {
      "text/html": [
       "<div>\n",
       "<style scoped>\n",
       "    .dataframe tbody tr th:only-of-type {\n",
       "        vertical-align: middle;\n",
       "    }\n",
       "\n",
       "    .dataframe tbody tr th {\n",
       "        vertical-align: top;\n",
       "    }\n",
       "\n",
       "    .dataframe thead th {\n",
       "        text-align: right;\n",
       "    }\n",
       "</style>\n",
       "<table border=\"1\" class=\"dataframe\">\n",
       "  <thead>\n",
       "    <tr style=\"text-align: right;\">\n",
       "      <th></th>\n",
       "      <th>pm10</th>\n",
       "      <th>pm25</th>\n",
       "      <th>so2</th>\n",
       "      <th>co</th>\n",
       "      <th>o3</th>\n",
       "      <th>no2</th>\n",
       "      <th>max</th>\n",
       "      <th>categori</th>\n",
       "      <th>critical_O3</th>\n",
       "      <th>critical_PM10</th>\n",
       "      <th>critical_PM25</th>\n",
       "      <th>critical_SO2</th>\n",
       "    </tr>\n",
       "  </thead>\n",
       "  <tbody>\n",
       "    <tr>\n",
       "      <th>0</th>\n",
       "      <td>26</td>\n",
       "      <td>42.0</td>\n",
       "      <td>22</td>\n",
       "      <td>11</td>\n",
       "      <td>13</td>\n",
       "      <td>19</td>\n",
       "      <td>42</td>\n",
       "      <td>BAIK</td>\n",
       "      <td>0</td>\n",
       "      <td>0</td>\n",
       "      <td>1</td>\n",
       "      <td>0</td>\n",
       "    </tr>\n",
       "    <tr>\n",
       "      <th>1</th>\n",
       "      <td>41</td>\n",
       "      <td>54.0</td>\n",
       "      <td>27</td>\n",
       "      <td>11</td>\n",
       "      <td>17</td>\n",
       "      <td>19</td>\n",
       "      <td>54</td>\n",
       "      <td>SEDANG</td>\n",
       "      <td>0</td>\n",
       "      <td>0</td>\n",
       "      <td>1</td>\n",
       "      <td>0</td>\n",
       "    </tr>\n",
       "    <tr>\n",
       "      <th>2</th>\n",
       "      <td>25</td>\n",
       "      <td>42.0</td>\n",
       "      <td>20</td>\n",
       "      <td>8</td>\n",
       "      <td>18</td>\n",
       "      <td>22</td>\n",
       "      <td>42</td>\n",
       "      <td>BAIK</td>\n",
       "      <td>0</td>\n",
       "      <td>0</td>\n",
       "      <td>1</td>\n",
       "      <td>0</td>\n",
       "    </tr>\n",
       "    <tr>\n",
       "      <th>3</th>\n",
       "      <td>57</td>\n",
       "      <td>78.0</td>\n",
       "      <td>21</td>\n",
       "      <td>23</td>\n",
       "      <td>14</td>\n",
       "      <td>33</td>\n",
       "      <td>78</td>\n",
       "      <td>SEDANG</td>\n",
       "      <td>0</td>\n",
       "      <td>0</td>\n",
       "      <td>1</td>\n",
       "      <td>0</td>\n",
       "    </tr>\n",
       "    <tr>\n",
       "      <th>4</th>\n",
       "      <td>52</td>\n",
       "      <td>69.0</td>\n",
       "      <td>22</td>\n",
       "      <td>15</td>\n",
       "      <td>18</td>\n",
       "      <td>27</td>\n",
       "      <td>69</td>\n",
       "      <td>SEDANG</td>\n",
       "      <td>0</td>\n",
       "      <td>0</td>\n",
       "      <td>1</td>\n",
       "      <td>0</td>\n",
       "    </tr>\n",
       "  </tbody>\n",
       "</table>\n",
       "</div>"
      ],
      "text/plain": [
       "   pm10  pm25  so2  co  o3  no2  max categori  critical_O3  critical_PM10  \\\n",
       "0    26  42.0   22  11  13   19   42     BAIK            0              0   \n",
       "1    41  54.0   27  11  17   19   54   SEDANG            0              0   \n",
       "2    25  42.0   20   8  18   22   42     BAIK            0              0   \n",
       "3    57  78.0   21  23  14   33   78   SEDANG            0              0   \n",
       "4    52  69.0   22  15  18   27   69   SEDANG            0              0   \n",
       "\n",
       "   critical_PM25  critical_SO2  \n",
       "0              1             0  \n",
       "1              1             0  \n",
       "2              1             0  \n",
       "3              1             0  \n",
       "4              1             0  "
      ]
     },
     "execution_count": 48,
     "metadata": {},
     "output_type": "execute_result"
    }
   ],
   "source": [
    "df.head()"
   ]
  },
  {
   "cell_type": "code",
   "execution_count": 49,
   "metadata": {
    "colab": {
     "base_uri": "https://localhost:8080/"
    },
    "id": "dyu4WYvMExpy",
    "outputId": "5f53fe1c-61c6-4fdc-bca6-52748b2ab521"
   },
   "outputs": [
    {
     "name": "stdout",
     "output_type": "stream",
     "text": [
      "<class 'pandas.core.frame.DataFrame'>\n",
      "Int64Index: 615 entries, 0 to 754\n",
      "Data columns (total 12 columns):\n",
      " #   Column         Non-Null Count  Dtype  \n",
      "---  ------         --------------  -----  \n",
      " 0   pm10           615 non-null    int32  \n",
      " 1   pm25           615 non-null    float64\n",
      " 2   so2            615 non-null    int32  \n",
      " 3   co             615 non-null    int32  \n",
      " 4   o3             615 non-null    int32  \n",
      " 5   no2            615 non-null    int32  \n",
      " 6   max            615 non-null    int32  \n",
      " 7   categori       615 non-null    object \n",
      " 8   critical_O3    615 non-null    uint8  \n",
      " 9   critical_PM10  615 non-null    uint8  \n",
      " 10  critical_PM25  615 non-null    uint8  \n",
      " 11  critical_SO2   615 non-null    uint8  \n",
      "dtypes: float64(1), int32(6), object(1), uint8(4)\n",
      "memory usage: 47.4+ KB\n"
     ]
    }
   ],
   "source": [
    "df.info()"
   ]
  },
  {
   "cell_type": "markdown",
   "metadata": {
    "id": "EfsO9U-_GaBZ"
   },
   "source": [
    "##**Normalization**"
   ]
  },
  {
   "cell_type": "code",
   "execution_count": 50,
   "metadata": {
    "colab": {
     "base_uri": "https://localhost:8080/",
     "height": 206
    },
    "id": "AiIqVaxvGem0",
    "outputId": "1eb7cb48-0266-4d56-bd3a-2b80bbcb53a1"
   },
   "outputs": [
    {
     "data": {
      "text/html": [
       "<div>\n",
       "<style scoped>\n",
       "    .dataframe tbody tr th:only-of-type {\n",
       "        vertical-align: middle;\n",
       "    }\n",
       "\n",
       "    .dataframe tbody tr th {\n",
       "        vertical-align: top;\n",
       "    }\n",
       "\n",
       "    .dataframe thead th {\n",
       "        text-align: right;\n",
       "    }\n",
       "</style>\n",
       "<table border=\"1\" class=\"dataframe\">\n",
       "  <thead>\n",
       "    <tr style=\"text-align: right;\">\n",
       "      <th></th>\n",
       "      <th>pm10</th>\n",
       "      <th>pm25</th>\n",
       "      <th>so2</th>\n",
       "      <th>co</th>\n",
       "      <th>o3</th>\n",
       "      <th>no2</th>\n",
       "      <th>max</th>\n",
       "      <th>categori</th>\n",
       "      <th>critical_O3</th>\n",
       "      <th>critical_PM10</th>\n",
       "      <th>critical_PM25</th>\n",
       "      <th>critical_SO2</th>\n",
       "    </tr>\n",
       "  </thead>\n",
       "  <tbody>\n",
       "    <tr>\n",
       "      <th>0</th>\n",
       "      <td>26</td>\n",
       "      <td>42.0</td>\n",
       "      <td>22</td>\n",
       "      <td>11</td>\n",
       "      <td>13</td>\n",
       "      <td>19</td>\n",
       "      <td>42</td>\n",
       "      <td>BAIK</td>\n",
       "      <td>0</td>\n",
       "      <td>0</td>\n",
       "      <td>1</td>\n",
       "      <td>0</td>\n",
       "    </tr>\n",
       "    <tr>\n",
       "      <th>1</th>\n",
       "      <td>41</td>\n",
       "      <td>54.0</td>\n",
       "      <td>27</td>\n",
       "      <td>11</td>\n",
       "      <td>17</td>\n",
       "      <td>19</td>\n",
       "      <td>54</td>\n",
       "      <td>SEDANG</td>\n",
       "      <td>0</td>\n",
       "      <td>0</td>\n",
       "      <td>1</td>\n",
       "      <td>0</td>\n",
       "    </tr>\n",
       "    <tr>\n",
       "      <th>2</th>\n",
       "      <td>25</td>\n",
       "      <td>42.0</td>\n",
       "      <td>20</td>\n",
       "      <td>8</td>\n",
       "      <td>18</td>\n",
       "      <td>22</td>\n",
       "      <td>42</td>\n",
       "      <td>BAIK</td>\n",
       "      <td>0</td>\n",
       "      <td>0</td>\n",
       "      <td>1</td>\n",
       "      <td>0</td>\n",
       "    </tr>\n",
       "    <tr>\n",
       "      <th>3</th>\n",
       "      <td>57</td>\n",
       "      <td>78.0</td>\n",
       "      <td>21</td>\n",
       "      <td>23</td>\n",
       "      <td>14</td>\n",
       "      <td>33</td>\n",
       "      <td>78</td>\n",
       "      <td>SEDANG</td>\n",
       "      <td>0</td>\n",
       "      <td>0</td>\n",
       "      <td>1</td>\n",
       "      <td>0</td>\n",
       "    </tr>\n",
       "    <tr>\n",
       "      <th>4</th>\n",
       "      <td>52</td>\n",
       "      <td>69.0</td>\n",
       "      <td>22</td>\n",
       "      <td>15</td>\n",
       "      <td>18</td>\n",
       "      <td>27</td>\n",
       "      <td>69</td>\n",
       "      <td>SEDANG</td>\n",
       "      <td>0</td>\n",
       "      <td>0</td>\n",
       "      <td>1</td>\n",
       "      <td>0</td>\n",
       "    </tr>\n",
       "  </tbody>\n",
       "</table>\n",
       "</div>"
      ],
      "text/plain": [
       "   pm10  pm25  so2  co  o3  no2  max categori  critical_O3  critical_PM10  \\\n",
       "0    26  42.0   22  11  13   19   42     BAIK            0              0   \n",
       "1    41  54.0   27  11  17   19   54   SEDANG            0              0   \n",
       "2    25  42.0   20   8  18   22   42     BAIK            0              0   \n",
       "3    57  78.0   21  23  14   33   78   SEDANG            0              0   \n",
       "4    52  69.0   22  15  18   27   69   SEDANG            0              0   \n",
       "\n",
       "   critical_PM25  critical_SO2  \n",
       "0              1             0  \n",
       "1              1             0  \n",
       "2              1             0  \n",
       "3              1             0  \n",
       "4              1             0  "
      ]
     },
     "execution_count": 50,
     "metadata": {},
     "output_type": "execute_result"
    }
   ],
   "source": [
    "df.head()"
   ]
  },
  {
   "cell_type": "code",
   "execution_count": 51,
   "metadata": {
    "id": "pTwZZ0vgYYI1"
   },
   "outputs": [],
   "source": [
    "X = df[['pm10',\t'pm25',\t'so2', 'co', 'o3', 'no2', 'max', 'critical_O3', 'critical_PM10', 'critical_PM25', 'critical_SO2']]\n",
    "y = df[['categori']]"
   ]
  },
  {
   "cell_type": "code",
   "execution_count": 52,
   "metadata": {
    "colab": {
     "base_uri": "https://localhost:8080/"
    },
    "id": "C6Wxo9qIbloV",
    "outputId": "0d21eb7e-edd7-4842-8a7f-b05d55e66ead"
   },
   "outputs": [
    {
     "name": "stdout",
     "output_type": "stream",
     "text": [
      "Min :  pm10             15.0\n",
      "pm25             13.0\n",
      "so2               2.0\n",
      "co                3.0\n",
      "o3                9.0\n",
      "no2               3.0\n",
      "max              20.0\n",
      "critical_O3       0.0\n",
      "critical_PM10     0.0\n",
      "critical_PM25     0.0\n",
      "critical_SO2      0.0\n",
      "dtype: float64\n",
      "Max :  pm10              89.0\n",
      "pm25             126.0\n",
      "so2               74.0\n",
      "co                43.0\n",
      "o3               151.0\n",
      "no2               45.0\n",
      "max              151.0\n",
      "critical_O3        1.0\n",
      "critical_PM10      1.0\n",
      "critical_PM25      1.0\n",
      "critical_SO2       1.0\n",
      "dtype: float64\n"
     ]
    }
   ],
   "source": [
    "print('Min : ', X.min(axis=0))\n",
    "print('Max : ', X.max(axis=0))"
   ]
  },
  {
   "cell_type": "code",
   "execution_count": 53,
   "metadata": {
    "id": "uX0w-yCLbtyr"
   },
   "outputs": [],
   "source": [
    "from sklearn.preprocessing import MinMaxScaler\n",
    "scaler = MinMaxScaler() \n",
    "data_scaled = scaler.fit_transform(X)"
   ]
  },
  {
   "cell_type": "code",
   "execution_count": 54,
   "metadata": {
    "colab": {
     "base_uri": "https://localhost:8080/"
    },
    "id": "VjzJJZRabwfn",
    "outputId": "c6aaf01c-550a-4bd0-d766-4175f0ae2c57"
   },
   "outputs": [
    {
     "name": "stdout",
     "output_type": "stream",
     "text": [
      "Min :  [0. 0. 0. 0. 0. 0. 0. 0. 0. 0. 0.]\n",
      "Max :  [1. 1. 1. 1. 1. 1. 1. 1. 1. 1. 1.]\n"
     ]
    }
   ],
   "source": [
    "print('Min : ', data_scaled.min(axis=0))\n",
    "print('Max : ', data_scaled.max(axis=0))"
   ]
  },
  {
   "cell_type": "code",
   "execution_count": 55,
   "metadata": {
    "colab": {
     "base_uri": "https://localhost:8080/",
     "height": 206
    },
    "id": "4SBmMiACbyy9",
    "outputId": "d634071b-1f7a-4dd4-a06e-a96758672fdc"
   },
   "outputs": [
    {
     "data": {
      "text/html": [
       "<div>\n",
       "<style scoped>\n",
       "    .dataframe tbody tr th:only-of-type {\n",
       "        vertical-align: middle;\n",
       "    }\n",
       "\n",
       "    .dataframe tbody tr th {\n",
       "        vertical-align: top;\n",
       "    }\n",
       "\n",
       "    .dataframe thead th {\n",
       "        text-align: right;\n",
       "    }\n",
       "</style>\n",
       "<table border=\"1\" class=\"dataframe\">\n",
       "  <thead>\n",
       "    <tr style=\"text-align: right;\">\n",
       "      <th></th>\n",
       "      <th>pm10</th>\n",
       "      <th>pm25</th>\n",
       "      <th>so2</th>\n",
       "      <th>co</th>\n",
       "      <th>o3</th>\n",
       "      <th>no2</th>\n",
       "      <th>max</th>\n",
       "      <th>critical_O3</th>\n",
       "      <th>critical_PM10</th>\n",
       "      <th>critical_PM25</th>\n",
       "      <th>critical_SO2</th>\n",
       "    </tr>\n",
       "  </thead>\n",
       "  <tbody>\n",
       "    <tr>\n",
       "      <th>0</th>\n",
       "      <td>0.148649</td>\n",
       "      <td>0.256637</td>\n",
       "      <td>0.277778</td>\n",
       "      <td>0.200</td>\n",
       "      <td>0.028169</td>\n",
       "      <td>0.380952</td>\n",
       "      <td>0.167939</td>\n",
       "      <td>0.0</td>\n",
       "      <td>0.0</td>\n",
       "      <td>1.0</td>\n",
       "      <td>0.0</td>\n",
       "    </tr>\n",
       "    <tr>\n",
       "      <th>1</th>\n",
       "      <td>0.351351</td>\n",
       "      <td>0.362832</td>\n",
       "      <td>0.347222</td>\n",
       "      <td>0.200</td>\n",
       "      <td>0.056338</td>\n",
       "      <td>0.380952</td>\n",
       "      <td>0.259542</td>\n",
       "      <td>0.0</td>\n",
       "      <td>0.0</td>\n",
       "      <td>1.0</td>\n",
       "      <td>0.0</td>\n",
       "    </tr>\n",
       "    <tr>\n",
       "      <th>2</th>\n",
       "      <td>0.135135</td>\n",
       "      <td>0.256637</td>\n",
       "      <td>0.250000</td>\n",
       "      <td>0.125</td>\n",
       "      <td>0.063380</td>\n",
       "      <td>0.452381</td>\n",
       "      <td>0.167939</td>\n",
       "      <td>0.0</td>\n",
       "      <td>0.0</td>\n",
       "      <td>1.0</td>\n",
       "      <td>0.0</td>\n",
       "    </tr>\n",
       "    <tr>\n",
       "      <th>3</th>\n",
       "      <td>0.567568</td>\n",
       "      <td>0.575221</td>\n",
       "      <td>0.263889</td>\n",
       "      <td>0.500</td>\n",
       "      <td>0.035211</td>\n",
       "      <td>0.714286</td>\n",
       "      <td>0.442748</td>\n",
       "      <td>0.0</td>\n",
       "      <td>0.0</td>\n",
       "      <td>1.0</td>\n",
       "      <td>0.0</td>\n",
       "    </tr>\n",
       "    <tr>\n",
       "      <th>4</th>\n",
       "      <td>0.500000</td>\n",
       "      <td>0.495575</td>\n",
       "      <td>0.277778</td>\n",
       "      <td>0.300</td>\n",
       "      <td>0.063380</td>\n",
       "      <td>0.571429</td>\n",
       "      <td>0.374046</td>\n",
       "      <td>0.0</td>\n",
       "      <td>0.0</td>\n",
       "      <td>1.0</td>\n",
       "      <td>0.0</td>\n",
       "    </tr>\n",
       "  </tbody>\n",
       "</table>\n",
       "</div>"
      ],
      "text/plain": [
       "       pm10      pm25       so2     co        o3       no2       max  \\\n",
       "0  0.148649  0.256637  0.277778  0.200  0.028169  0.380952  0.167939   \n",
       "1  0.351351  0.362832  0.347222  0.200  0.056338  0.380952  0.259542   \n",
       "2  0.135135  0.256637  0.250000  0.125  0.063380  0.452381  0.167939   \n",
       "3  0.567568  0.575221  0.263889  0.500  0.035211  0.714286  0.442748   \n",
       "4  0.500000  0.495575  0.277778  0.300  0.063380  0.571429  0.374046   \n",
       "\n",
       "   critical_O3  critical_PM10  critical_PM25  critical_SO2  \n",
       "0          0.0            0.0            1.0           0.0  \n",
       "1          0.0            0.0            1.0           0.0  \n",
       "2          0.0            0.0            1.0           0.0  \n",
       "3          0.0            0.0            1.0           0.0  \n",
       "4          0.0            0.0            1.0           0.0  "
      ]
     },
     "execution_count": 55,
     "metadata": {},
     "output_type": "execute_result"
    }
   ],
   "source": [
    "column_name = list(X.columns)\n",
    "df = pd.DataFrame(data=data_scaled, columns= column_name)\n",
    "df.head()"
   ]
  },
  {
   "cell_type": "code",
   "execution_count": 56,
   "metadata": {
    "colab": {
     "base_uri": "https://localhost:8080/",
     "height": 320
    },
    "id": "5Q27Ic3ZcfYV",
    "outputId": "b71cda23-b59b-4653-dbae-c10fb1b78b12"
   },
   "outputs": [
    {
     "data": {
      "text/html": [
       "<div>\n",
       "<style scoped>\n",
       "    .dataframe tbody tr th:only-of-type {\n",
       "        vertical-align: middle;\n",
       "    }\n",
       "\n",
       "    .dataframe tbody tr th {\n",
       "        vertical-align: top;\n",
       "    }\n",
       "\n",
       "    .dataframe thead th {\n",
       "        text-align: right;\n",
       "    }\n",
       "</style>\n",
       "<table border=\"1\" class=\"dataframe\">\n",
       "  <thead>\n",
       "    <tr style=\"text-align: right;\">\n",
       "      <th></th>\n",
       "      <th>pm10</th>\n",
       "      <th>pm25</th>\n",
       "      <th>so2</th>\n",
       "      <th>co</th>\n",
       "      <th>o3</th>\n",
       "      <th>no2</th>\n",
       "      <th>max</th>\n",
       "      <th>critical_O3</th>\n",
       "      <th>critical_PM10</th>\n",
       "      <th>critical_PM25</th>\n",
       "      <th>critical_SO2</th>\n",
       "    </tr>\n",
       "  </thead>\n",
       "  <tbody>\n",
       "    <tr>\n",
       "      <th>count</th>\n",
       "      <td>615.000000</td>\n",
       "      <td>615.000000</td>\n",
       "      <td>615.000000</td>\n",
       "      <td>615.000000</td>\n",
       "      <td>615.000000</td>\n",
       "      <td>615.000000</td>\n",
       "      <td>615.000000</td>\n",
       "      <td>615.000000</td>\n",
       "      <td>615.000000</td>\n",
       "      <td>615.000000</td>\n",
       "      <td>615.000000</td>\n",
       "    </tr>\n",
       "    <tr>\n",
       "      <th>mean</th>\n",
       "      <td>0.443397</td>\n",
       "      <td>0.514933</td>\n",
       "      <td>0.394106</td>\n",
       "      <td>0.241585</td>\n",
       "      <td>0.162338</td>\n",
       "      <td>0.354239</td>\n",
       "      <td>0.401415</td>\n",
       "      <td>0.058537</td>\n",
       "      <td>0.014634</td>\n",
       "      <td>0.923577</td>\n",
       "      <td>0.003252</td>\n",
       "    </tr>\n",
       "    <tr>\n",
       "      <th>std</th>\n",
       "      <td>0.191939</td>\n",
       "      <td>0.183865</td>\n",
       "      <td>0.158986</td>\n",
       "      <td>0.135883</td>\n",
       "      <td>0.120790</td>\n",
       "      <td>0.205806</td>\n",
       "      <td>0.153760</td>\n",
       "      <td>0.234946</td>\n",
       "      <td>0.120181</td>\n",
       "      <td>0.265890</td>\n",
       "      <td>0.056980</td>\n",
       "    </tr>\n",
       "    <tr>\n",
       "      <th>min</th>\n",
       "      <td>0.000000</td>\n",
       "      <td>0.000000</td>\n",
       "      <td>0.000000</td>\n",
       "      <td>0.000000</td>\n",
       "      <td>0.000000</td>\n",
       "      <td>0.000000</td>\n",
       "      <td>0.000000</td>\n",
       "      <td>0.000000</td>\n",
       "      <td>0.000000</td>\n",
       "      <td>0.000000</td>\n",
       "      <td>0.000000</td>\n",
       "    </tr>\n",
       "    <tr>\n",
       "      <th>25%</th>\n",
       "      <td>0.290541</td>\n",
       "      <td>0.371681</td>\n",
       "      <td>0.277778</td>\n",
       "      <td>0.150000</td>\n",
       "      <td>0.077465</td>\n",
       "      <td>0.214286</td>\n",
       "      <td>0.286260</td>\n",
       "      <td>0.000000</td>\n",
       "      <td>0.000000</td>\n",
       "      <td>1.000000</td>\n",
       "      <td>0.000000</td>\n",
       "    </tr>\n",
       "    <tr>\n",
       "      <th>50%</th>\n",
       "      <td>0.486486</td>\n",
       "      <td>0.513274</td>\n",
       "      <td>0.347222</td>\n",
       "      <td>0.225000</td>\n",
       "      <td>0.126761</td>\n",
       "      <td>0.309524</td>\n",
       "      <td>0.396947</td>\n",
       "      <td>0.000000</td>\n",
       "      <td>0.000000</td>\n",
       "      <td>1.000000</td>\n",
       "      <td>0.000000</td>\n",
       "    </tr>\n",
       "    <tr>\n",
       "      <th>75%</th>\n",
       "      <td>0.581081</td>\n",
       "      <td>0.637168</td>\n",
       "      <td>0.527778</td>\n",
       "      <td>0.300000</td>\n",
       "      <td>0.218310</td>\n",
       "      <td>0.452381</td>\n",
       "      <td>0.503817</td>\n",
       "      <td>0.000000</td>\n",
       "      <td>0.000000</td>\n",
       "      <td>1.000000</td>\n",
       "      <td>0.000000</td>\n",
       "    </tr>\n",
       "    <tr>\n",
       "      <th>max</th>\n",
       "      <td>1.000000</td>\n",
       "      <td>1.000000</td>\n",
       "      <td>1.000000</td>\n",
       "      <td>1.000000</td>\n",
       "      <td>1.000000</td>\n",
       "      <td>1.000000</td>\n",
       "      <td>1.000000</td>\n",
       "      <td>1.000000</td>\n",
       "      <td>1.000000</td>\n",
       "      <td>1.000000</td>\n",
       "      <td>1.000000</td>\n",
       "    </tr>\n",
       "  </tbody>\n",
       "</table>\n",
       "</div>"
      ],
      "text/plain": [
       "             pm10        pm25         so2          co          o3         no2  \\\n",
       "count  615.000000  615.000000  615.000000  615.000000  615.000000  615.000000   \n",
       "mean     0.443397    0.514933    0.394106    0.241585    0.162338    0.354239   \n",
       "std      0.191939    0.183865    0.158986    0.135883    0.120790    0.205806   \n",
       "min      0.000000    0.000000    0.000000    0.000000    0.000000    0.000000   \n",
       "25%      0.290541    0.371681    0.277778    0.150000    0.077465    0.214286   \n",
       "50%      0.486486    0.513274    0.347222    0.225000    0.126761    0.309524   \n",
       "75%      0.581081    0.637168    0.527778    0.300000    0.218310    0.452381   \n",
       "max      1.000000    1.000000    1.000000    1.000000    1.000000    1.000000   \n",
       "\n",
       "              max  critical_O3  critical_PM10  critical_PM25  critical_SO2  \n",
       "count  615.000000   615.000000     615.000000     615.000000    615.000000  \n",
       "mean     0.401415     0.058537       0.014634       0.923577      0.003252  \n",
       "std      0.153760     0.234946       0.120181       0.265890      0.056980  \n",
       "min      0.000000     0.000000       0.000000       0.000000      0.000000  \n",
       "25%      0.286260     0.000000       0.000000       1.000000      0.000000  \n",
       "50%      0.396947     0.000000       0.000000       1.000000      0.000000  \n",
       "75%      0.503817     0.000000       0.000000       1.000000      0.000000  \n",
       "max      1.000000     1.000000       1.000000       1.000000      1.000000  "
      ]
     },
     "execution_count": 56,
     "metadata": {},
     "output_type": "execute_result"
    }
   ],
   "source": [
    "df.describe()"
   ]
  },
  {
   "cell_type": "markdown",
   "metadata": {
    "id": "zMs3wu-NE01i"
   },
   "source": [
    "##**X_Train dan y_Train**"
   ]
  },
  {
   "cell_type": "code",
   "execution_count": 57,
   "metadata": {
    "colab": {
     "base_uri": "https://localhost:8080/",
     "height": 424
    },
    "id": "U7ZNGC7TE7ob",
    "outputId": "3636ea68-e82a-422f-8829-528d72930815"
   },
   "outputs": [
    {
     "data": {
      "text/html": [
       "<div>\n",
       "<style scoped>\n",
       "    .dataframe tbody tr th:only-of-type {\n",
       "        vertical-align: middle;\n",
       "    }\n",
       "\n",
       "    .dataframe tbody tr th {\n",
       "        vertical-align: top;\n",
       "    }\n",
       "\n",
       "    .dataframe thead th {\n",
       "        text-align: right;\n",
       "    }\n",
       "</style>\n",
       "<table border=\"1\" class=\"dataframe\">\n",
       "  <thead>\n",
       "    <tr style=\"text-align: right;\">\n",
       "      <th></th>\n",
       "      <th>pm10</th>\n",
       "      <th>pm25</th>\n",
       "      <th>so2</th>\n",
       "      <th>co</th>\n",
       "      <th>o3</th>\n",
       "      <th>no2</th>\n",
       "      <th>max</th>\n",
       "      <th>critical_O3</th>\n",
       "      <th>critical_PM10</th>\n",
       "      <th>critical_PM25</th>\n",
       "      <th>critical_SO2</th>\n",
       "    </tr>\n",
       "  </thead>\n",
       "  <tbody>\n",
       "    <tr>\n",
       "      <th>0</th>\n",
       "      <td>26</td>\n",
       "      <td>42.0</td>\n",
       "      <td>22</td>\n",
       "      <td>11</td>\n",
       "      <td>13</td>\n",
       "      <td>19</td>\n",
       "      <td>42</td>\n",
       "      <td>0</td>\n",
       "      <td>0</td>\n",
       "      <td>1</td>\n",
       "      <td>0</td>\n",
       "    </tr>\n",
       "    <tr>\n",
       "      <th>1</th>\n",
       "      <td>41</td>\n",
       "      <td>54.0</td>\n",
       "      <td>27</td>\n",
       "      <td>11</td>\n",
       "      <td>17</td>\n",
       "      <td>19</td>\n",
       "      <td>54</td>\n",
       "      <td>0</td>\n",
       "      <td>0</td>\n",
       "      <td>1</td>\n",
       "      <td>0</td>\n",
       "    </tr>\n",
       "    <tr>\n",
       "      <th>2</th>\n",
       "      <td>25</td>\n",
       "      <td>42.0</td>\n",
       "      <td>20</td>\n",
       "      <td>8</td>\n",
       "      <td>18</td>\n",
       "      <td>22</td>\n",
       "      <td>42</td>\n",
       "      <td>0</td>\n",
       "      <td>0</td>\n",
       "      <td>1</td>\n",
       "      <td>0</td>\n",
       "    </tr>\n",
       "    <tr>\n",
       "      <th>3</th>\n",
       "      <td>57</td>\n",
       "      <td>78.0</td>\n",
       "      <td>21</td>\n",
       "      <td>23</td>\n",
       "      <td>14</td>\n",
       "      <td>33</td>\n",
       "      <td>78</td>\n",
       "      <td>0</td>\n",
       "      <td>0</td>\n",
       "      <td>1</td>\n",
       "      <td>0</td>\n",
       "    </tr>\n",
       "    <tr>\n",
       "      <th>4</th>\n",
       "      <td>52</td>\n",
       "      <td>69.0</td>\n",
       "      <td>22</td>\n",
       "      <td>15</td>\n",
       "      <td>18</td>\n",
       "      <td>27</td>\n",
       "      <td>69</td>\n",
       "      <td>0</td>\n",
       "      <td>0</td>\n",
       "      <td>1</td>\n",
       "      <td>0</td>\n",
       "    </tr>\n",
       "    <tr>\n",
       "      <th>...</th>\n",
       "      <td>...</td>\n",
       "      <td>...</td>\n",
       "      <td>...</td>\n",
       "      <td>...</td>\n",
       "      <td>...</td>\n",
       "      <td>...</td>\n",
       "      <td>...</td>\n",
       "      <td>...</td>\n",
       "      <td>...</td>\n",
       "      <td>...</td>\n",
       "      <td>...</td>\n",
       "    </tr>\n",
       "    <tr>\n",
       "      <th>750</th>\n",
       "      <td>34</td>\n",
       "      <td>61.0</td>\n",
       "      <td>32</td>\n",
       "      <td>5</td>\n",
       "      <td>20</td>\n",
       "      <td>11</td>\n",
       "      <td>61</td>\n",
       "      <td>0</td>\n",
       "      <td>0</td>\n",
       "      <td>1</td>\n",
       "      <td>0</td>\n",
       "    </tr>\n",
       "    <tr>\n",
       "      <th>751</th>\n",
       "      <td>49</td>\n",
       "      <td>77.0</td>\n",
       "      <td>37</td>\n",
       "      <td>8</td>\n",
       "      <td>20</td>\n",
       "      <td>19</td>\n",
       "      <td>77</td>\n",
       "      <td>0</td>\n",
       "      <td>0</td>\n",
       "      <td>1</td>\n",
       "      <td>0</td>\n",
       "    </tr>\n",
       "    <tr>\n",
       "      <th>752</th>\n",
       "      <td>54</td>\n",
       "      <td>88.0</td>\n",
       "      <td>37</td>\n",
       "      <td>11</td>\n",
       "      <td>19</td>\n",
       "      <td>29</td>\n",
       "      <td>88</td>\n",
       "      <td>0</td>\n",
       "      <td>0</td>\n",
       "      <td>1</td>\n",
       "      <td>0</td>\n",
       "    </tr>\n",
       "    <tr>\n",
       "      <th>753</th>\n",
       "      <td>46</td>\n",
       "      <td>66.0</td>\n",
       "      <td>24</td>\n",
       "      <td>15</td>\n",
       "      <td>18</td>\n",
       "      <td>29</td>\n",
       "      <td>66</td>\n",
       "      <td>0</td>\n",
       "      <td>0</td>\n",
       "      <td>1</td>\n",
       "      <td>0</td>\n",
       "    </tr>\n",
       "    <tr>\n",
       "      <th>754</th>\n",
       "      <td>52</td>\n",
       "      <td>82.0</td>\n",
       "      <td>21</td>\n",
       "      <td>11</td>\n",
       "      <td>27</td>\n",
       "      <td>18</td>\n",
       "      <td>82</td>\n",
       "      <td>0</td>\n",
       "      <td>0</td>\n",
       "      <td>1</td>\n",
       "      <td>0</td>\n",
       "    </tr>\n",
       "  </tbody>\n",
       "</table>\n",
       "<p>615 rows × 11 columns</p>\n",
       "</div>"
      ],
      "text/plain": [
       "     pm10  pm25  so2  co  o3  no2  max  critical_O3  critical_PM10  \\\n",
       "0      26  42.0   22  11  13   19   42            0              0   \n",
       "1      41  54.0   27  11  17   19   54            0              0   \n",
       "2      25  42.0   20   8  18   22   42            0              0   \n",
       "3      57  78.0   21  23  14   33   78            0              0   \n",
       "4      52  69.0   22  15  18   27   69            0              0   \n",
       "..    ...   ...  ...  ..  ..  ...  ...          ...            ...   \n",
       "750    34  61.0   32   5  20   11   61            0              0   \n",
       "751    49  77.0   37   8  20   19   77            0              0   \n",
       "752    54  88.0   37  11  19   29   88            0              0   \n",
       "753    46  66.0   24  15  18   29   66            0              0   \n",
       "754    52  82.0   21  11  27   18   82            0              0   \n",
       "\n",
       "     critical_PM25  critical_SO2  \n",
       "0                1             0  \n",
       "1                1             0  \n",
       "2                1             0  \n",
       "3                1             0  \n",
       "4                1             0  \n",
       "..             ...           ...  \n",
       "750              1             0  \n",
       "751              1             0  \n",
       "752              1             0  \n",
       "753              1             0  \n",
       "754              1             0  \n",
       "\n",
       "[615 rows x 11 columns]"
      ]
     },
     "execution_count": 57,
     "metadata": {},
     "output_type": "execute_result"
    }
   ],
   "source": [
    "#data independent\n",
    "X"
   ]
  },
  {
   "cell_type": "code",
   "execution_count": 58,
   "metadata": {
    "colab": {
     "base_uri": "https://localhost:8080/",
     "height": 424
    },
    "id": "pdpqJQ4pFFbJ",
    "outputId": "cf14923b-2e3b-4ff9-837e-1c4c65bda688"
   },
   "outputs": [
    {
     "data": {
      "text/html": [
       "<div>\n",
       "<style scoped>\n",
       "    .dataframe tbody tr th:only-of-type {\n",
       "        vertical-align: middle;\n",
       "    }\n",
       "\n",
       "    .dataframe tbody tr th {\n",
       "        vertical-align: top;\n",
       "    }\n",
       "\n",
       "    .dataframe thead th {\n",
       "        text-align: right;\n",
       "    }\n",
       "</style>\n",
       "<table border=\"1\" class=\"dataframe\">\n",
       "  <thead>\n",
       "    <tr style=\"text-align: right;\">\n",
       "      <th></th>\n",
       "      <th>categori</th>\n",
       "    </tr>\n",
       "  </thead>\n",
       "  <tbody>\n",
       "    <tr>\n",
       "      <th>0</th>\n",
       "      <td>BAIK</td>\n",
       "    </tr>\n",
       "    <tr>\n",
       "      <th>1</th>\n",
       "      <td>SEDANG</td>\n",
       "    </tr>\n",
       "    <tr>\n",
       "      <th>2</th>\n",
       "      <td>BAIK</td>\n",
       "    </tr>\n",
       "    <tr>\n",
       "      <th>3</th>\n",
       "      <td>SEDANG</td>\n",
       "    </tr>\n",
       "    <tr>\n",
       "      <th>4</th>\n",
       "      <td>SEDANG</td>\n",
       "    </tr>\n",
       "    <tr>\n",
       "      <th>...</th>\n",
       "      <td>...</td>\n",
       "    </tr>\n",
       "    <tr>\n",
       "      <th>750</th>\n",
       "      <td>SEDANG</td>\n",
       "    </tr>\n",
       "    <tr>\n",
       "      <th>751</th>\n",
       "      <td>SEDANG</td>\n",
       "    </tr>\n",
       "    <tr>\n",
       "      <th>752</th>\n",
       "      <td>SEDANG</td>\n",
       "    </tr>\n",
       "    <tr>\n",
       "      <th>753</th>\n",
       "      <td>SEDANG</td>\n",
       "    </tr>\n",
       "    <tr>\n",
       "      <th>754</th>\n",
       "      <td>SEDANG</td>\n",
       "    </tr>\n",
       "  </tbody>\n",
       "</table>\n",
       "<p>615 rows × 1 columns</p>\n",
       "</div>"
      ],
      "text/plain": [
       "    categori\n",
       "0       BAIK\n",
       "1     SEDANG\n",
       "2       BAIK\n",
       "3     SEDANG\n",
       "4     SEDANG\n",
       "..       ...\n",
       "750   SEDANG\n",
       "751   SEDANG\n",
       "752   SEDANG\n",
       "753   SEDANG\n",
       "754   SEDANG\n",
       "\n",
       "[615 rows x 1 columns]"
      ]
     },
     "execution_count": 58,
     "metadata": {},
     "output_type": "execute_result"
    }
   ],
   "source": [
    "y"
   ]
  },
  {
   "cell_type": "markdown",
   "metadata": {
    "id": "93sxEyICFQxR"
   },
   "source": [
    "##**Data Imbalance**"
   ]
  },
  {
   "cell_type": "code",
   "execution_count": 59,
   "metadata": {
    "colab": {
     "base_uri": "https://localhost:8080/"
    },
    "id": "PNc6Xz0dFWQo",
    "outputId": "ab3bca3b-9237-413a-f6e4-5f47be6d1311"
   },
   "outputs": [
    {
     "data": {
      "text/plain": [
       "SEDANG         479\n",
       "BAIK            77\n",
       "TIDAK SEHAT     59\n",
       "Name: categori, dtype: int64"
      ]
     },
     "execution_count": 59,
     "metadata": {},
     "output_type": "execute_result"
    }
   ],
   "source": [
    "#menghitung value label categori\n",
    "y['categori'].value_counts()"
   ]
  },
  {
   "cell_type": "code",
   "execution_count": 60,
   "metadata": {
    "colab": {
     "base_uri": "https://localhost:8080/",
     "height": 320
    },
    "id": "cRvxyqr7Fd-N",
    "outputId": "d06062d1-01cb-43d8-ec8c-5938573e5939"
   },
   "outputs": [
    {
     "data": {
      "text/plain": [
       "(array([ 77.,   0.,   0.,   0.,   0., 479.,   0.,   0.,   0.,  59.]),\n",
       " array([0. , 0.2, 0.4, 0.6, 0.8, 1. , 1.2, 1.4, 1.6, 1.8, 2. ]),\n",
       " <BarContainer object of 10 artists>)"
      ]
     },
     "execution_count": 60,
     "metadata": {},
     "output_type": "execute_result"
    },
    {
     "data": {
      "image/png": "[encoded data removed]",
      "text/plain": [
       "<Figure size 432x288 with 1 Axes>"
      ]
     },
     "metadata": {
      "needs_background": "light"
     },
     "output_type": "display_data"
    }
   ],
   "source": [
    "#visualisasi label categori dengan histogram\n",
    "plt.hist(y['categori'])"
   ]
  },
  {
   "cell_type": "code",
   "execution_count": 61,
   "metadata": {
    "colab": {
     "base_uri": "https://localhost:8080/",
     "height": 265
    },
    "id": "g6TWcYbjFk0N",
    "outputId": "49324835-b8e6-41e4-8b8c-691bce520b4f"
   },
   "outputs": [
    {
     "data": {
      "text/plain": [
       "<AxesSubplot:ylabel='categori'>"
      ]
     },
     "execution_count": 61,
     "metadata": {},
     "output_type": "execute_result"
    },
    {
     "data": {
      "image/png": "[encoded data removed]",
      "text/plain": [
       "<Figure size 432x288 with 1 Axes>"
      ]
     },
     "metadata": {},
     "output_type": "display_data"
    }
   ],
   "source": [
    "#visualisasi label categori dengan pie chart\n",
    "y['categori'].value_counts().plot.pie(autopct='%1.1f%%', shadow=True)"
   ]
  },
  {
   "cell_type": "markdown",
   "metadata": {
    "id": "XCb5oh7cGE5l"
   },
   "source": [
    "**Keterangan:** Data kategori imbalance (tidak seimbang) sehingga perlu dilakukan resampling (pengambilan sampel ulang)"
   ]
  },
  {
   "cell_type": "code",
   "execution_count": 62,
   "metadata": {
    "id": "fVNjzAH8SEYs"
   },
   "outputs": [
    {
     "ename": "ModuleNotFoundError",
     "evalue": "No module named 'imblearn'",
     "output_type": "error",
     "traceback": [
      "\u001b[1;31m---------------------------------------------------------------------------\u001b[0m",
      "\u001b[1;31mModuleNotFoundError\u001b[0m                       Traceback (most recent call last)",
      "\u001b[1;32mC:\\Users\\ACERGC~1\\AppData\\Local\\Temp/ipykernel_15160/554731485.py\u001b[0m in \u001b[0;36m<module>\u001b[1;34m\u001b[0m\n\u001b[0;32m      1\u001b[0m \u001b[1;32mfrom\u001b[0m \u001b[0msklearn\u001b[0m\u001b[1;33m.\u001b[0m\u001b[0mdatasets\u001b[0m \u001b[1;32mimport\u001b[0m \u001b[0mmake_classification\u001b[0m\u001b[1;33m\u001b[0m\u001b[1;33m\u001b[0m\u001b[0m\n\u001b[1;32m----> 2\u001b[1;33m \u001b[1;32mfrom\u001b[0m \u001b[0mimblearn\u001b[0m\u001b[1;33m.\u001b[0m\u001b[0mover_sampling\u001b[0m \u001b[1;32mimport\u001b[0m \u001b[0mRandomOverSampler\u001b[0m\u001b[1;33m\u001b[0m\u001b[1;33m\u001b[0m\u001b[0m\n\u001b[0m\u001b[0;32m      3\u001b[0m \u001b[1;32mfrom\u001b[0m \u001b[0mimblearn\u001b[0m\u001b[1;33m.\u001b[0m\u001b[0munder_sampling\u001b[0m \u001b[1;32mimport\u001b[0m \u001b[0mRandomUnderSampler\u001b[0m\u001b[1;33m\u001b[0m\u001b[1;33m\u001b[0m\u001b[0m\n\u001b[0;32m      4\u001b[0m \u001b[1;32mfrom\u001b[0m \u001b[0mcollections\u001b[0m \u001b[1;32mimport\u001b[0m \u001b[0mCounter\u001b[0m\u001b[1;33m\u001b[0m\u001b[1;33m\u001b[0m\u001b[0m\n",
      "\u001b[1;31mModuleNotFoundError\u001b[0m: No module named 'imblearn'"
     ]
    }
   ],
   "source": [
    "from sklearn.datasets import make_classification\n",
    "from imblearn.over_sampling import RandomOverSampler\n",
    "from imblearn.under_sampling import RandomUnderSampler\n",
    "from collections import Counter"
   ]
  },
  {
   "cell_type": "code",
   "execution_count": null,
   "metadata": {
    "colab": {
     "base_uri": "https://localhost:8080/"
    },
    "id": "9xnrq8sOR5nl",
    "outputId": "d2bbc3c0-1134-43c8-ce73-c6abff18759a"
   },
   "outputs": [],
   "source": [
    "from imblearn.over_sampling import SMOTE\n",
    "\n",
    "smote = SMOTE(random_state=2)\n",
    "X_sm, y_sm = smote.fit_resample(X, y)\n",
    "\n",
    "print(Counter(y_sm))"
   ]
  },
  {
   "cell_type": "code",
   "execution_count": null,
   "metadata": {
    "colab": {
     "base_uri": "https://localhost:8080/",
     "height": 265
    },
    "id": "4MIHe2_cSIYn",
    "outputId": "5339596c-f2d1-442c-efd8-8354401f52f7"
   },
   "outputs": [],
   "source": [
    "#visualisasi label categori dengan pie chart\n",
    "y_sm['categori'].value_counts().plot.pie(autopct='%1.1f%%', shadow=True)"
   ]
  }
 ],
 "metadata": {
  "colab": {
   "collapsed_sections": [
    "qo9HkwVxNsLo",
    "W6mhg3cNPRtN",
    "cpTPhZz8QU66",
    "TU7t2q2r_iBQ",
    "5-TPOHl4A4KD",
    "EfsO9U-_GaBZ",
    "zMs3wu-NE01i",
    "93sxEyICFQxR"
   ],
   "name": "Tugas Project Kelompok 7.ipynb",
   "provenance": []
  },
  "kernelspec": {
   "display_name": "Python 3 (ipykernel)",
   "language": "python",
   "name": "python3"
  },
  "language_info": {
   "codemirror_mode": {
    "name": "ipython",
    "version": 3
   },
   "file_extension": ".py",
   "mimetype": "text/x-python",
   "name": "python",
   "nbconvert_exporter": "python",
   "pygments_lexer": "ipython3",
   "version": "3.9.1"
  }
 },
 "nbformat": 4,
 "nbformat_minor": 1
}
